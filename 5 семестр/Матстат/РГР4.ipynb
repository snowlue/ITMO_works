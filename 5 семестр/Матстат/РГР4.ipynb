{
 "cells": [
  {
   "cell_type": "markdown",
   "metadata": {},
   "source": [
    "### Расчётно-графическая работа №4\n",
    "*Выполнил студент группы R3341 Овчинников Павел (вариант №2.2)*\n",
    "\n",
    "---\n"
   ]
  },
  {
   "cell_type": "code",
   "execution_count": 1,
   "metadata": {},
   "outputs": [],
   "source": [
    "# Импортируем необходимые модули\n",
    "import pandas as pd\n",
    "import numpy as np\n",
    "\n",
    "from scipy import stats"
   ]
  },
  {
   "cell_type": "markdown",
   "metadata": {},
   "source": [
    "## Задание №1\n",
    "Требуется построить линейную модель (предполагая нормальность распределения ошибок, некоррелированность компонент, гомоскедастичность), вычислить оценки коэффициентов модели и остаточной дисперсии, построить для них доверительные интервалы, вычислить коэффициент детерминации, проверить указанные в условии гипотезы с помощью построенной линейной модели.\n",
    "\n",
    "В датасете представлены данные о мобильных телефонах.\n",
    "1. Построить линейную модель, где в качестве независимых переменных выступают высота и ширина экрана (атрибуты `sc_h` и `sc_w`) и ёмкость аккумулятора (атрибут `battery_power`), зависимой — масса телефона (`mobile_wt`).\n",
    "2. Проверить следующие подозрения:\n",
    "    - Чем больше высота экрана, тем больше масса\n",
    "    - Чем больше ширина экрана, тем больше масса\n",
    "    - Проверьте гипотезу $H_0$ об одновременном равенстве нулю коэффициентов при ширине экрана и ёмкости аккумулятора против альтернативы $H_1 = \\overline{H_0}$.\n",
    "\n",
    "Для начала считаем датасет и извлечём необходимые нам столбцы данных, с которыми мы будем работать."
   ]
  },
  {
   "cell_type": "code",
   "execution_count": 2,
   "metadata": {},
   "outputs": [
    {
     "data": {
      "text/html": [
       "<div>\n",
       "<style scoped>\n",
       "    .dataframe tbody tr th:only-of-type {\n",
       "        vertical-align: middle;\n",
       "    }\n",
       "\n",
       "    .dataframe tbody tr th {\n",
       "        vertical-align: top;\n",
       "    }\n",
       "\n",
       "    .dataframe thead th {\n",
       "        text-align: right;\n",
       "    }\n",
       "</style>\n",
       "<table border=\"1\" class=\"dataframe\">\n",
       "  <thead>\n",
       "    <tr style=\"text-align: right;\">\n",
       "      <th></th>\n",
       "      <th>battery_power</th>\n",
       "      <th>blue</th>\n",
       "      <th>clock_speed</th>\n",
       "      <th>dual_sim</th>\n",
       "      <th>fc</th>\n",
       "      <th>four_g</th>\n",
       "      <th>int_memory</th>\n",
       "      <th>m_dep</th>\n",
       "      <th>mobile_wt</th>\n",
       "      <th>n_cores</th>\n",
       "      <th>...</th>\n",
       "      <th>px_height</th>\n",
       "      <th>px_width</th>\n",
       "      <th>ram</th>\n",
       "      <th>sc_h</th>\n",
       "      <th>sc_w</th>\n",
       "      <th>talk_time</th>\n",
       "      <th>three_g</th>\n",
       "      <th>touch_screen</th>\n",
       "      <th>wifi</th>\n",
       "      <th>price_range</th>\n",
       "    </tr>\n",
       "  </thead>\n",
       "  <tbody>\n",
       "    <tr>\n",
       "      <th>0</th>\n",
       "      <td>842</td>\n",
       "      <td>0</td>\n",
       "      <td>2.2</td>\n",
       "      <td>0</td>\n",
       "      <td>1</td>\n",
       "      <td>0</td>\n",
       "      <td>7</td>\n",
       "      <td>0.6</td>\n",
       "      <td>188</td>\n",
       "      <td>2</td>\n",
       "      <td>...</td>\n",
       "      <td>20</td>\n",
       "      <td>756</td>\n",
       "      <td>2549</td>\n",
       "      <td>9</td>\n",
       "      <td>7</td>\n",
       "      <td>19</td>\n",
       "      <td>0</td>\n",
       "      <td>0</td>\n",
       "      <td>1</td>\n",
       "      <td>1</td>\n",
       "    </tr>\n",
       "    <tr>\n",
       "      <th>1</th>\n",
       "      <td>1021</td>\n",
       "      <td>1</td>\n",
       "      <td>0.5</td>\n",
       "      <td>1</td>\n",
       "      <td>0</td>\n",
       "      <td>1</td>\n",
       "      <td>53</td>\n",
       "      <td>0.7</td>\n",
       "      <td>136</td>\n",
       "      <td>3</td>\n",
       "      <td>...</td>\n",
       "      <td>905</td>\n",
       "      <td>1988</td>\n",
       "      <td>2631</td>\n",
       "      <td>17</td>\n",
       "      <td>3</td>\n",
       "      <td>7</td>\n",
       "      <td>1</td>\n",
       "      <td>1</td>\n",
       "      <td>0</td>\n",
       "      <td>2</td>\n",
       "    </tr>\n",
       "    <tr>\n",
       "      <th>2</th>\n",
       "      <td>563</td>\n",
       "      <td>1</td>\n",
       "      <td>0.5</td>\n",
       "      <td>1</td>\n",
       "      <td>2</td>\n",
       "      <td>1</td>\n",
       "      <td>41</td>\n",
       "      <td>0.9</td>\n",
       "      <td>145</td>\n",
       "      <td>5</td>\n",
       "      <td>...</td>\n",
       "      <td>1263</td>\n",
       "      <td>1716</td>\n",
       "      <td>2603</td>\n",
       "      <td>11</td>\n",
       "      <td>2</td>\n",
       "      <td>9</td>\n",
       "      <td>1</td>\n",
       "      <td>1</td>\n",
       "      <td>0</td>\n",
       "      <td>2</td>\n",
       "    </tr>\n",
       "    <tr>\n",
       "      <th>3</th>\n",
       "      <td>615</td>\n",
       "      <td>1</td>\n",
       "      <td>2.5</td>\n",
       "      <td>0</td>\n",
       "      <td>0</td>\n",
       "      <td>0</td>\n",
       "      <td>10</td>\n",
       "      <td>0.8</td>\n",
       "      <td>131</td>\n",
       "      <td>6</td>\n",
       "      <td>...</td>\n",
       "      <td>1216</td>\n",
       "      <td>1786</td>\n",
       "      <td>2769</td>\n",
       "      <td>16</td>\n",
       "      <td>8</td>\n",
       "      <td>11</td>\n",
       "      <td>1</td>\n",
       "      <td>0</td>\n",
       "      <td>0</td>\n",
       "      <td>2</td>\n",
       "    </tr>\n",
       "    <tr>\n",
       "      <th>4</th>\n",
       "      <td>1821</td>\n",
       "      <td>1</td>\n",
       "      <td>1.2</td>\n",
       "      <td>0</td>\n",
       "      <td>13</td>\n",
       "      <td>1</td>\n",
       "      <td>44</td>\n",
       "      <td>0.6</td>\n",
       "      <td>141</td>\n",
       "      <td>2</td>\n",
       "      <td>...</td>\n",
       "      <td>1208</td>\n",
       "      <td>1212</td>\n",
       "      <td>1411</td>\n",
       "      <td>8</td>\n",
       "      <td>2</td>\n",
       "      <td>15</td>\n",
       "      <td>1</td>\n",
       "      <td>1</td>\n",
       "      <td>0</td>\n",
       "      <td>1</td>\n",
       "    </tr>\n",
       "  </tbody>\n",
       "</table>\n",
       "<p>5 rows × 21 columns</p>\n",
       "</div>"
      ],
      "text/plain": [
       "   battery_power  blue  clock_speed  dual_sim  fc  four_g  int_memory  m_dep  \\\n",
       "0            842     0          2.2         0   1       0           7    0.6   \n",
       "1           1021     1          0.5         1   0       1          53    0.7   \n",
       "2            563     1          0.5         1   2       1          41    0.9   \n",
       "3            615     1          2.5         0   0       0          10    0.8   \n",
       "4           1821     1          1.2         0  13       1          44    0.6   \n",
       "\n",
       "   mobile_wt  n_cores  ...  px_height  px_width   ram  sc_h  sc_w  talk_time  \\\n",
       "0        188        2  ...         20       756  2549     9     7         19   \n",
       "1        136        3  ...        905      1988  2631    17     3          7   \n",
       "2        145        5  ...       1263      1716  2603    11     2          9   \n",
       "3        131        6  ...       1216      1786  2769    16     8         11   \n",
       "4        141        2  ...       1208      1212  1411     8     2         15   \n",
       "\n",
       "   three_g  touch_screen  wifi  price_range  \n",
       "0        0             0     1            1  \n",
       "1        1             1     0            2  \n",
       "2        1             1     0            2  \n",
       "3        1             0     0            2  \n",
       "4        1             1     0            1  \n",
       "\n",
       "[5 rows x 21 columns]"
      ]
     },
     "execution_count": 2,
     "metadata": {},
     "output_type": "execute_result"
    }
   ],
   "source": [
    "data = pd.read_csv('mobile_phones.csv')\n",
    "data.head()"
   ]
  },
  {
   "cell_type": "code",
   "execution_count": 3,
   "metadata": {},
   "outputs": [],
   "source": [
    "h, w, p, m = data['sc_h'], data['sc_w'], data['battery_power'], data['mobile_wt']"
   ]
  },
  {
   "cell_type": "markdown",
   "metadata": {},
   "source": [
    "Итак, как в нашем случае будет выглядеть линейная модель:\n",
    "$$m_i = b_0 + h_ib_1 + w_ib_2 + p_ib_3 + \\xi_i$$\n",
    "Здесь $m_i$ - масса телефона, $h_i$ - высота экрана, $w_i$ - ширина экрана, $p_i$ - ёмкость аккумулятора, $\\xi_i$ - случайная ошибка, $b_0, b_1, b_2, b_3$ - коэффициенты модели, а $i$ - номер наблюдения $0,\\ldots n$.\n",
    "При этом ошибка $\\xi_i$ удовлетворяет следующим условиям:\n",
    "1. $E(\\xi_i) = 0$\n",
    "2. $D(\\xi_i) = \\sigma^2$\n",
    "3. $cov(\\xi_i, \\xi_j) = 0, i \\neq j$\n",
    "\n",
    "Но мы воспользуемся представлением модели в матричной форме:\n",
    "$$Y = Xb + E$$\n",
    "Здесь $Y$ - вектор значений зависимой переменной, $X$ - матрица значений независимых переменных или т.н. регрессоров, $b$ - вектор коэффициентов модели, $E$ - вектор случайных ошибок.  \n",
    "При этом матрица $X$ имеет вид:\n",
    "$$X = \\begin{bmatrix}\n",
    "\\vdots & \\vdots & \\vdots & \\vdots \\\\\n",
    "1 & h_i & w_i & p_i \\\\\n",
    "\\vdots & \\vdots & \\vdots & \\vdots\n",
    "\\end{bmatrix}$$\n",
    "При этом, пользуясь методом наименьших квадратов, оценим вектор коэффициентов $b$ следующим образом:\n",
    "$$\\hat{b} = (X^TX)^{-1}X^TY$$"
   ]
  },
  {
   "cell_type": "code",
   "execution_count": 4,
   "metadata": {},
   "outputs": [
    {
     "name": "stdout",
     "output_type": "stream",
     "text": [
      "b: [143.64057  -0.26355  -0.03955   0.00006]\n"
     ]
    }
   ],
   "source": [
    "X = np.array([np.ones(len(data)), h, w, p]).T\n",
    "Y = m\n",
    "b = np.linalg.inv(X.T @ X) @ X.T @ Y\n",
    "\n",
    "np.set_printoptions(precision=5)\n",
    "np.set_printoptions(suppress=True)\n",
    "print('b:', b)"
   ]
  },
  {
   "cell_type": "markdown",
   "metadata": {},
   "source": [
    "Получаем оценку уравнения регрессии:\n",
    "$$\\hat{m} = 143.64057 - 0.26355 h - 0.03955 w + 0.00006 p$$\n",
    "\n",
    "Теперь рассчитаем остаточную дисперсию:\n",
    "$$\\hat{\\sigma}^2 = \\frac{1}{n - k} \\sum_{i=1}^{n} \\hat{\\xi}_i^2 = \\frac{\\varepsilon^T\\varepsilon}{n - k}$$\n",
    "где $n$ - количество наблюдений, $k$ - количество коэффициентов модели (в нашем случае $k = 4$), $\\varepsilon = Y - \\hat{Y} = Y - X\\hat{b}$ - вектор остатков."
   ]
  },
  {
   "cell_type": "code",
   "execution_count": 5,
   "metadata": {},
   "outputs": [
    {
     "name": "stdout",
     "output_type": "stream",
     "text": [
      "s2: 1253.55763\n"
     ]
    }
   ],
   "source": [
    "k, n = len(b), len(data)\n",
    "e = Y - X @ b\n",
    "s2 = (e.T @ e) / (n - k)  # type: ignore\n",
    "print(f's2: {s2:.5f}')"
   ]
  },
  {
   "cell_type": "markdown",
   "metadata": {},
   "source": [
    "Теперь посчитаем ковариационную матрицу оценок коэффициентов модели:\n",
    "$$\\hat{\\Sigma}_{\\hat{b}} = \\hat{\\sigma}^2(X^TX)^{-1}$$"
   ]
  },
  {
   "cell_type": "code",
   "execution_count": 6,
   "metadata": {},
   "outputs": [
    {
     "data": {
      "text/plain": [
       "array([[11.293254, -0.461523,  0.026398, -0.004149],\n",
       "       [-0.461523,  0.047517, -0.023241,  0.000009],\n",
       "       [ 0.026398, -0.023241,  0.044426,  0.000003],\n",
       "       [-0.004149,  0.000009,  0.000003,  0.000003]])"
      ]
     },
     "execution_count": 6,
     "metadata": {},
     "output_type": "execute_result"
    }
   ],
   "source": [
    "np.set_printoptions(precision=6)\n",
    "\n",
    "covb = np.linalg.inv(X.T @ X) * s2  # type: ignore\n",
    "covb"
   ]
  },
  {
   "cell_type": "markdown",
   "metadata": {},
   "source": [
    "Теперь, используя диагональные элементы ковариационной матрицы, вычислим доверительные интервалы и стандартные ошибки для коэффициентов модели:\n",
    "$$\\left(\\hat{b}_i - SE(\\hat{b}_i)t_{1-\\frac{\\alpha}2}(n-k);\\hat{b}_i + SE(\\hat{b}_i)t_{1-\\frac{\\alpha}2}(n-k)\\right)$$\n",
    "Здесь $t_{1-\\frac{\\alpha}2}(n-k)$ - квантиль распределения Стьюдента с $n - k$ степенями свободы уровня значимости $\\frac{\\alpha}2$, а $SE(\\hat{b}_i)$ - стандартная ошибка оценки коэффициента модели, вычисляющаяся следующим образом:\n",
    "$$SE(\\hat{b}_i) = \\sqrt{\\hat{\\Sigma}_{ii}}$$"
   ]
  },
  {
   "cell_type": "code",
   "execution_count": 7,
   "metadata": {},
   "outputs": [
    {
     "name": "stdout",
     "output_type": "stream",
     "text": [
      "№\tЗначение\tОшибка\t\tДоверительный интервал\n",
      "0\t143.640572\t3.360544\t(137.050031; 150.231113)\n",
      "1\t-0.263548\t0.217983\t(-0.691046; 0.163950)\n",
      "2\t-0.039549\t0.210774\t(-0.452908; 0.373811)\n",
      "3\t0.000064\t0.001803\t(-0.003471; 0.003600)\n"
     ]
    }
   ],
   "source": [
    "alpha = 0.05\n",
    "t = stats.t.ppf(1 - alpha / 2, n - k)\n",
    "print('№\\tЗначение\\tОшибка\\t\\tДоверительный интервал')\n",
    "for i in range(k):\n",
    "    se = np.sqrt(covb[i, i])\n",
    "    left, right = b[i] - t * se, b[i] + t * se\n",
    "    print(f'{i}\\t{b[i]:.6f}\\t{se:.6f}\\t({left:.6f}; {right:.6f})')"
   ]
  },
  {
   "cell_type": "markdown",
   "metadata": {},
   "source": [
    "Теперь рассчитаем доверительный интервал для дисперсии остатков:\n",
    "$$\\left(\\frac{(n - k)\\hat{\\sigma}^2}{\\chi^2_{1-\\frac{\\alpha}2}(n-k)};\\frac{(n - k)\\hat{\\sigma}^2}{\\chi^2_{\\frac{\\alpha}2}(n-k)}\\right)$$\n",
    "Здесь $\\chi^2_{1-\\frac{\\alpha}2}(n-k)$ и $\\chi^2_{\\frac{\\alpha}2}(n-k)$ - квантили распределения хи-квадрат с $n - k$ степенями свободы уровней значимости $1 - \\frac{\\alpha}2$ и $\\frac{\\alpha}2$ соответственно."
   ]
  },
  {
   "cell_type": "code",
   "execution_count": 8,
   "metadata": {},
   "outputs": [
    {
     "name": "stdout",
     "output_type": "stream",
     "text": [
      "s2\t\tДоверительный интервал\n",
      "1253.55763\t(1179.28052; 1335.11605)\n"
     ]
    }
   ],
   "source": [
    "base = (n - k) * s2\n",
    "left = base / stats.chi2.ppf(1 - alpha / 2, n - k)\n",
    "right =  base / stats.chi2.ppf(alpha / 2, n - k)\n",
    "print('s2\\t\\tДоверительный интервал')\n",
    "print(f'{s2:.5f}\\t({left:.5f}; {right:.5f})')"
   ]
  },
  {
   "cell_type": "markdown",
   "metadata": {},
   "source": [
    "Наконец, вычислим коэффициент детерминации:\n",
    "$$R^2 = 1 - \\frac{\\sum\\hat{\\xi}_i^2}{\\sum(y_i - \\overline{y})^2} = 1 - \\frac{\\varepsilon^T\\varepsilon}{(Y - \\overline{Y})^T(Y - \\overline{Y})}"
   ]
  },
  {
   "cell_type": "code",
   "execution_count": 9,
   "metadata": {},
   "outputs": [
    {
     "name": "stdout",
     "output_type": "stream",
     "text": [
      "0.00116\n"
     ]
    }
   ],
   "source": [
    "R2 = 1 - (e.T @ e) / ((Y - Y.mean()) @ (Y - Y.mean()))  # type: ignore\n",
    "print(f'{R2:.5f}')"
   ]
  },
  {
   "cell_type": "markdown",
   "metadata": {},
   "source": [
    "\n",
    "---\n",
    "\n",
    "Проверим подозрения. Для этого зададим гипотезы к каждому подозрению и проверим их с помощью p-value.  \n",
    "Для этого воспользуемся статистикой:\n",
    "$$t_{stat} = \\frac{\\hat{b}_i}{SE(\\hat{b}_i)}$$\n",
    "\n",
    "### Гипотеза №1\n",
    "- $H_0$: $b_1 = 0$, т.е. высота экрана не влияет на массу телефона\n",
    "- $H_1$: $b_1 > 0$, т.е. высота экрана прямо пропорционально влияет на массу телефона"
   ]
  },
  {
   "cell_type": "code",
   "execution_count": 10,
   "metadata": {},
   "outputs": [
    {
     "name": "stdout",
     "output_type": "stream",
     "text": [
      "Гипотеза H0 принимается\n"
     ]
    }
   ],
   "source": [
    "t_stat = b[1] / np.sqrt(covb[1, 1])\n",
    "p_value = 1 - stats.t.cdf(t_stat, n - k)\n",
    "print('Гипотеза H0 отвергается' if p_value < alpha else 'Гипотеза H0 принимается')"
   ]
  },
  {
   "cell_type": "markdown",
   "metadata": {},
   "source": [
    "### Гипотеза №2\n",
    "- $H_0$: $b_2 = 0$, т.е. ширина экрана не влияет на массу телефона\n",
    "- $H_1$: $b_2 > 0$, т.е. ширина экрана прямо пропорционально влияет на массу телефона"
   ]
  },
  {
   "cell_type": "code",
   "execution_count": 11,
   "metadata": {},
   "outputs": [
    {
     "name": "stdout",
     "output_type": "stream",
     "text": [
      "Гипотеза H0 принимается\n"
     ]
    }
   ],
   "source": [
    "t_stat = b[2] / np.sqrt(covb[2, 2])\n",
    "p_value = 1 - stats.t.cdf(t_stat, n - k)\n",
    "print('Гипотеза H0 отвергается' if p_value < alpha else 'Гипотеза H0 принимается')"
   ]
  },
  {
   "cell_type": "markdown",
   "metadata": {},
   "source": [
    "### Гипотеза №3\n",
    "- $H_0$: $b_2 = 0 \\cap b_3 = 0$, т.е. ширина экрана и ёмкость аккумулятора не влияют на массу телефона\n",
    "- $H_1$: $b_2 \\neq 0 \\cup b_3 \\neq 0$, т.е. хотя бы одна из переменных влияет на массу телефона\n",
    "\n",
    "Проверим с помощью F-теста. Статистика имеет вид:\n",
    "$$F = \\frac{\\frac{\\text{RSS}_S - \\text{RSS}}{q}}{\\frac{\\text{RSS}}{n - k}} = \\frac{(\\text{RSS}_S - \\text{RSS})(n - k)}{\\text{RSS}q} = \\frac{\\text{RSS}_S - \\text{RSS}}{\\text{RSS}}\\frac{n - k}{q} \\sim F(q, n-k)$$\n",
    "Здесь $\\text{RSS}_S$ - сумма квадратов остатков сокращённой модели, $q$ - количество ограничений в модели (фактически, $k - k_S$), $\\text{RSS}$ - сумма квадратов остатков полной модели, $n$ - количество наблюдений, $k$ - количество коэффициентов модели. $RSS = \\varepsilon^T\\varepsilon$ и вычислялось ранее, при оценке дисперсии остатков.\n",
    "\n",
    "Суть метода состоит в том, что мы получаем сокращённую модель, зависимую только от высоты экрана, зануляя коэффициенты при ширине экрана и ёмкости аккумулятора, согласно гипотезе $H_0$.  \n",
    "После этого выполним проверку F-тестом. Если $F > F_{1-\\alpha}(q, n-k)$, то отвергнем нулевую гипотезу."
   ]
  },
  {
   "cell_type": "code",
   "execution_count": 12,
   "metadata": {},
   "outputs": [
    {
     "name": "stdout",
     "output_type": "stream",
     "text": [
      "0.01829\n"
     ]
    }
   ],
   "source": [
    "X_S = np.array([np.ones(len(data)), h]).T\n",
    "b_S = np.linalg.inv(X_S.T @ X_S) @ X_S.T @ Y\n",
    "e_S = Y - X_S @ b_S\n",
    "RSS_S = e_S.T @ e_S\n",
    "RSS = e.T @ e\n",
    "q = k - len(b_S)\n",
    "\n",
    "f_score = ((RSS_S - RSS) / RSS) * ((n - k) / q)  # type: ignore\n",
    "print(f'{f_score:.5f}')"
   ]
  },
  {
   "cell_type": "markdown",
   "metadata": {},
   "source": [
    "Значение статистики получено. Теперь найдём критическое значение для уровня значимости $\\alpha = 0.05$, числа ограничений  $q = 2$ и числа степеней свободы $n - k$."
   ]
  },
  {
   "cell_type": "code",
   "execution_count": 13,
   "metadata": {},
   "outputs": [
    {
     "name": "stdout",
     "output_type": "stream",
     "text": [
      "Гипотеза H0 принимается\n"
     ]
    }
   ],
   "source": [
    "f = stats.f.ppf(1 - alpha, q, n - k)\n",
    "print('Гипотеза H0 отвергается' if f_score > f else 'Гипотеза H0 принимается')"
   ]
  },
  {
   "cell_type": "markdown",
   "metadata": {},
   "source": [
    "### Вывод\n",
    "- Коэффициент детерминации мал и близок к нулю, т.е. модель статистически значимо не объясняет зависимость зависимой переменной от независимых, между переменными слабая связь,\n",
    "- Первое подозрение не подтвердилось, т.е. высота экрана не влияет на массу телефона,\n",
    "- Второе подозрение не подтвердилось, т.е. ширина экрана не влияет на массу телефона,\n",
    "- Третья гипотеза подтвердилась, т.е. ни одна из двух переменных ширины и ёмкости аккумулятора не влияет на массу телефона."
   ]
  },
  {
   "cell_type": "markdown",
   "metadata": {},
   "source": [
    "## Задание №2\n",
    "Проверить гипотезу о равенстве средних на каждом уровне фактора с помощью модели однофакторного дисперсионного анализа.\n",
    "\n",
    "В датасете представлены данные о сдаче экзаменов. Фактор — этническая/национальная группа. Выходная переменная — суммарный балл за все 3 экзамена.\n",
    "\n",
    "Но для начала, по традиции, считаем датасет и извлечём необходимые нам столбцы данных, с которыми мы будем работать."
   ]
  },
  {
   "cell_type": "code",
   "execution_count": 14,
   "metadata": {},
   "outputs": [
    {
     "data": {
      "text/html": [
       "<div>\n",
       "<style scoped>\n",
       "    .dataframe tbody tr th:only-of-type {\n",
       "        vertical-align: middle;\n",
       "    }\n",
       "\n",
       "    .dataframe tbody tr th {\n",
       "        vertical-align: top;\n",
       "    }\n",
       "\n",
       "    .dataframe thead th {\n",
       "        text-align: right;\n",
       "    }\n",
       "</style>\n",
       "<table border=\"1\" class=\"dataframe\">\n",
       "  <thead>\n",
       "    <tr style=\"text-align: right;\">\n",
       "      <th></th>\n",
       "      <th>gender</th>\n",
       "      <th>race/ethnicity</th>\n",
       "      <th>parental level of education</th>\n",
       "      <th>lunch</th>\n",
       "      <th>test preparation course</th>\n",
       "      <th>math score</th>\n",
       "      <th>reading score</th>\n",
       "      <th>writing score</th>\n",
       "    </tr>\n",
       "  </thead>\n",
       "  <tbody>\n",
       "    <tr>\n",
       "      <th>0</th>\n",
       "      <td>female</td>\n",
       "      <td>group B</td>\n",
       "      <td>high school</td>\n",
       "      <td>standard</td>\n",
       "      <td>none</td>\n",
       "      <td>67</td>\n",
       "      <td>91</td>\n",
       "      <td>84</td>\n",
       "    </tr>\n",
       "    <tr>\n",
       "      <th>1</th>\n",
       "      <td>female</td>\n",
       "      <td>group D</td>\n",
       "      <td>some college</td>\n",
       "      <td>standard</td>\n",
       "      <td>none</td>\n",
       "      <td>63</td>\n",
       "      <td>63</td>\n",
       "      <td>67</td>\n",
       "    </tr>\n",
       "    <tr>\n",
       "      <th>2</th>\n",
       "      <td>female</td>\n",
       "      <td>group A</td>\n",
       "      <td>associate's degree</td>\n",
       "      <td>standard</td>\n",
       "      <td>completed</td>\n",
       "      <td>73</td>\n",
       "      <td>83</td>\n",
       "      <td>85</td>\n",
       "    </tr>\n",
       "    <tr>\n",
       "      <th>3</th>\n",
       "      <td>female</td>\n",
       "      <td>group C</td>\n",
       "      <td>associate's degree</td>\n",
       "      <td>standard</td>\n",
       "      <td>none</td>\n",
       "      <td>85</td>\n",
       "      <td>98</td>\n",
       "      <td>95</td>\n",
       "    </tr>\n",
       "    <tr>\n",
       "      <th>4</th>\n",
       "      <td>male</td>\n",
       "      <td>group B</td>\n",
       "      <td>bachelor's degree</td>\n",
       "      <td>standard</td>\n",
       "      <td>none</td>\n",
       "      <td>75</td>\n",
       "      <td>57</td>\n",
       "      <td>63</td>\n",
       "    </tr>\n",
       "  </tbody>\n",
       "</table>\n",
       "</div>"
      ],
      "text/plain": [
       "   gender race/ethnicity parental level of education     lunch  \\\n",
       "0  female        group B                 high school  standard   \n",
       "1  female        group D                some college  standard   \n",
       "2  female        group A          associate's degree  standard   \n",
       "3  female        group C          associate's degree  standard   \n",
       "4    male        group B           bachelor's degree  standard   \n",
       "\n",
       "  test preparation course  math score  reading score  writing score  \n",
       "0                    none          67             91             84  \n",
       "1                    none          63             63             67  \n",
       "2               completed          73             83             85  \n",
       "3                    none          85             98             95  \n",
       "4                    none          75             57             63  "
      ]
     },
     "execution_count": 14,
     "metadata": {},
     "output_type": "execute_result"
    }
   ],
   "source": [
    "data = pd.read_csv('exams_dataset.csv')\n",
    "data.head()"
   ]
  },
  {
   "cell_type": "markdown",
   "metadata": {},
   "source": [
    "Посмотрим, какие в датасете представлены группы и сколько их, а также сформируем столбец с выходной переменной:"
   ]
  },
  {
   "cell_type": "code",
   "execution_count": 15,
   "metadata": {},
   "outputs": [
    {
     "name": "stdout",
     "output_type": "stream",
     "text": [
      "['group B' 'group D' 'group A' 'group C' 'group E']\n"
     ]
    },
    {
     "data": {
      "text/html": [
       "<div>\n",
       "<style scoped>\n",
       "    .dataframe tbody tr th:only-of-type {\n",
       "        vertical-align: middle;\n",
       "    }\n",
       "\n",
       "    .dataframe tbody tr th {\n",
       "        vertical-align: top;\n",
       "    }\n",
       "\n",
       "    .dataframe thead th {\n",
       "        text-align: right;\n",
       "    }\n",
       "</style>\n",
       "<table border=\"1\" class=\"dataframe\">\n",
       "  <thead>\n",
       "    <tr style=\"text-align: right;\">\n",
       "      <th></th>\n",
       "      <th>gender</th>\n",
       "      <th>race/ethnicity</th>\n",
       "      <th>parental level of education</th>\n",
       "      <th>lunch</th>\n",
       "      <th>test preparation course</th>\n",
       "      <th>math score</th>\n",
       "      <th>reading score</th>\n",
       "      <th>writing score</th>\n",
       "      <th>total score</th>\n",
       "    </tr>\n",
       "  </thead>\n",
       "  <tbody>\n",
       "    <tr>\n",
       "      <th>0</th>\n",
       "      <td>female</td>\n",
       "      <td>group B</td>\n",
       "      <td>high school</td>\n",
       "      <td>standard</td>\n",
       "      <td>none</td>\n",
       "      <td>67</td>\n",
       "      <td>91</td>\n",
       "      <td>84</td>\n",
       "      <td>242</td>\n",
       "    </tr>\n",
       "    <tr>\n",
       "      <th>1</th>\n",
       "      <td>female</td>\n",
       "      <td>group D</td>\n",
       "      <td>some college</td>\n",
       "      <td>standard</td>\n",
       "      <td>none</td>\n",
       "      <td>63</td>\n",
       "      <td>63</td>\n",
       "      <td>67</td>\n",
       "      <td>193</td>\n",
       "    </tr>\n",
       "    <tr>\n",
       "      <th>2</th>\n",
       "      <td>female</td>\n",
       "      <td>group A</td>\n",
       "      <td>associate's degree</td>\n",
       "      <td>standard</td>\n",
       "      <td>completed</td>\n",
       "      <td>73</td>\n",
       "      <td>83</td>\n",
       "      <td>85</td>\n",
       "      <td>241</td>\n",
       "    </tr>\n",
       "    <tr>\n",
       "      <th>3</th>\n",
       "      <td>female</td>\n",
       "      <td>group C</td>\n",
       "      <td>associate's degree</td>\n",
       "      <td>standard</td>\n",
       "      <td>none</td>\n",
       "      <td>85</td>\n",
       "      <td>98</td>\n",
       "      <td>95</td>\n",
       "      <td>278</td>\n",
       "    </tr>\n",
       "    <tr>\n",
       "      <th>4</th>\n",
       "      <td>male</td>\n",
       "      <td>group B</td>\n",
       "      <td>bachelor's degree</td>\n",
       "      <td>standard</td>\n",
       "      <td>none</td>\n",
       "      <td>75</td>\n",
       "      <td>57</td>\n",
       "      <td>63</td>\n",
       "      <td>195</td>\n",
       "    </tr>\n",
       "  </tbody>\n",
       "</table>\n",
       "</div>"
      ],
      "text/plain": [
       "   gender race/ethnicity parental level of education     lunch  \\\n",
       "0  female        group B                 high school  standard   \n",
       "1  female        group D                some college  standard   \n",
       "2  female        group A          associate's degree  standard   \n",
       "3  female        group C          associate's degree  standard   \n",
       "4    male        group B           bachelor's degree  standard   \n",
       "\n",
       "  test preparation course  math score  reading score  writing score  \\\n",
       "0                    none          67             91             84   \n",
       "1                    none          63             63             67   \n",
       "2               completed          73             83             85   \n",
       "3                    none          85             98             95   \n",
       "4                    none          75             57             63   \n",
       "\n",
       "   total score  \n",
       "0          242  \n",
       "1          193  \n",
       "2          241  \n",
       "3          278  \n",
       "4          195  "
      ]
     },
     "execution_count": 15,
     "metadata": {},
     "output_type": "execute_result"
    }
   ],
   "source": [
    "print(data['race/ethnicity'].unique())\n",
    "data['total score'] = data['math score'] + data['reading score'] + data['writing score']\n",
    "data.head()"
   ]
  },
  {
   "cell_type": "markdown",
   "metadata": {},
   "source": [
    "Теперь сгруппируем данные по группам и посчитаем необходимые нам статистики:"
   ]
  },
  {
   "cell_type": "code",
   "execution_count": 16,
   "metadata": {},
   "outputs": [
    {
     "data": {
      "text/html": [
       "<div>\n",
       "<style scoped>\n",
       "    .dataframe tbody tr th:only-of-type {\n",
       "        vertical-align: middle;\n",
       "    }\n",
       "\n",
       "    .dataframe tbody tr th {\n",
       "        vertical-align: top;\n",
       "    }\n",
       "\n",
       "    .dataframe thead th {\n",
       "        text-align: right;\n",
       "    }\n",
       "</style>\n",
       "<table border=\"1\" class=\"dataframe\">\n",
       "  <thead>\n",
       "    <tr style=\"text-align: right;\">\n",
       "      <th></th>\n",
       "      <th>mean</th>\n",
       "      <th>count</th>\n",
       "    </tr>\n",
       "    <tr>\n",
       "      <th>race/ethnicity</th>\n",
       "      <th></th>\n",
       "      <th></th>\n",
       "    </tr>\n",
       "  </thead>\n",
       "  <tbody>\n",
       "    <tr>\n",
       "      <th>group A</th>\n",
       "      <td>191.662338</td>\n",
       "      <td>77</td>\n",
       "    </tr>\n",
       "    <tr>\n",
       "      <th>group B</th>\n",
       "      <td>195.063725</td>\n",
       "      <td>204</td>\n",
       "    </tr>\n",
       "    <tr>\n",
       "      <th>group C</th>\n",
       "      <td>194.981481</td>\n",
       "      <td>324</td>\n",
       "    </tr>\n",
       "    <tr>\n",
       "      <th>group D</th>\n",
       "      <td>209.536398</td>\n",
       "      <td>261</td>\n",
       "    </tr>\n",
       "    <tr>\n",
       "      <th>group E</th>\n",
       "      <td>223.805970</td>\n",
       "      <td>134</td>\n",
       "    </tr>\n",
       "  </tbody>\n",
       "</table>\n",
       "</div>"
      ],
      "text/plain": [
       "                      mean  count\n",
       "race/ethnicity                   \n",
       "group A         191.662338     77\n",
       "group B         195.063725    204\n",
       "group C         194.981481    324\n",
       "group D         209.536398    261\n",
       "group E         223.805970    134"
      ]
     },
     "execution_count": 16,
     "metadata": {},
     "output_type": "execute_result"
    }
   ],
   "source": [
    "grouped_data = data.groupby('race/ethnicity')['total score'].agg(['mean', 'count'])\n",
    "grouped_data"
   ]
  },
  {
   "cell_type": "markdown",
   "metadata": {},
   "source": [
    "### Гипотеза\n",
    "- $H_0$: $\\mu_1 = \\mu_2 = \\ldots = \\mu_k$, т.е. средние значения на всех уровнях фактора равны\n",
    "- $H_1$: $\\exists\\  i,j: \\mu_i \\neq \\mu_j$, т.е. хотя бы на одном уровне фактора среднее значение отличается от остальных\n",
    "\n",
    "Воспользуемся F-статистикой:\n",
    "$$F = \\frac{\\frac{\\text{SSB}}{k - 1}}{\\frac{\\text{SSW}}{n - k}} = \\frac{\\text{SSB}(n - k)}{\\text{SSW}(k - 1)} \\sim F(k - 1, n - k)$$\n",
    "Здесь $\\text{SSB}$ - сумма квадратов для межгрупповой дисперсии, $\\text{SSW}$ - сумма квадратов для внутригрупповой дисперсии, $k$ - количество групп, $n$ - общее количество наблюдений.\n",
    "$$\\text{SSB} = \\sum_{j = 1}^{k} n_j(\\overline{y}_j - \\overline{y})^2\\qquad \\text{SSW} = \\sum_{j=1}^{k}\\sum_{i=1}^{n_j}(y_{ij} - \\overline{y}_j)^2$$"
   ]
  },
  {
   "cell_type": "code",
   "execution_count": 17,
   "metadata": {},
   "outputs": [
    {
     "name": "stdout",
     "output_type": "stream",
     "text": [
      "F:\t\t14.31081\n",
      "p-value:\t0.00000\n",
      "Гипотеза H0 отвергается\n"
     ]
    }
   ],
   "source": [
    "n, k = len(data), len(grouped_data)\n",
    "data_mean = data['total score'].mean()\n",
    "SSB = (grouped_data['count'] * (grouped_data['mean'] - data_mean) ** 2).sum()\n",
    "SSW = data.groupby('race/ethnicity')['total score'].apply(lambda group: sum((group - group.mean()) ** 2)).sum()\n",
    "F = SSB * (n - k) / (SSW * (k - 1))\n",
    "\n",
    "p_value = 1 - stats.f.cdf(F, k - 1, n - k)\n",
    "\n",
    "print(f'F:\\t\\t{F:.5f}')\n",
    "print(f'p-value:\\t{p_value:.5f}')\n",
    "print('Гипотеза H0 отвергается' if p_value < alpha else 'Гипотеза H0 принимается')"
   ]
  },
  {
   "cell_type": "markdown",
   "metadata": {},
   "source": [
    "### Вывод\n",
    "Гипотеза о равенстве средних на всех уровнях фактора отвергается, т.е. хотя бы на одном уровне фактора среднее значение отличается от остальных."
   ]
  }
 ],
 "metadata": {
  "kernelspec": {
   "display_name": "education",
   "language": "python",
   "name": "python3"
  },
  "language_info": {
   "codemirror_mode": {
    "name": "ipython",
    "version": 3
   },
   "file_extension": ".py",
   "mimetype": "text/x-python",
   "name": "python",
   "nbconvert_exporter": "python",
   "pygments_lexer": "ipython3",
   "version": "3.12.7"
  }
 },
 "nbformat": 4,
 "nbformat_minor": 2
}
