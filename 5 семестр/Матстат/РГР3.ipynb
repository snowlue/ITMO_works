{
 "cells": [
  {
   "cell_type": "markdown",
   "metadata": {},
   "source": [
    "### Расчётно-графическая работа №3\n",
    "*Выполнил студент группы R3341 Овчинников Павел (вариант №1)*\n",
    "\n",
    "---"
   ]
  },
  {
   "cell_type": "markdown",
   "metadata": {},
   "source": [
    "Для каждой проблемы нужно провести два статистических теста, если не сказано иное, причём первый из критериев нужно реализовать самостоятельно (считать и выводить значение статистики, критическое значение, p-value), в качестве второго можно воспользоваться готовой реализацией. Также нужно отдельно указывать, как формализуются $H_0$ и $H_1$ для выбранных тестов. Уровень значимости выбирается самостоятельно.\n",
    "\n",
    "\n",
    "В файл `kc_house_data.csv` приведены данные о цене на недвижимость где-то в окрестности Сиэтла.\n",
    "\n",
    "**Задания:**\n",
    "1. Предположить, с каким вероятностным законом распределена цена. С помощью стат.теста подтвердить или опровергнуть своё предположение.\n",
    "2. Верно ли, что цена на старый и новый фонд распределена одинаково? (порог возраста выбрать самостоятельно)\n",
    "3. Верно ли, что при увеличении «жилищной площади» растёт и цена?"
   ]
  },
  {
   "cell_type": "code",
   "execution_count": 17,
   "metadata": {},
   "outputs": [],
   "source": [
    "# Импортируем необходимые модули\n",
    "import pandas as pd\n",
    "import numpy as np\n",
    "import matplotlib.pyplot as plt\n",
    "\n",
    "from scipy import stats\n",
    "import statsmodels.api as sm"
   ]
  },
  {
   "cell_type": "markdown",
   "metadata": {},
   "source": [
    "Считаем данные:"
   ]
  },
  {
   "cell_type": "code",
   "execution_count": 18,
   "metadata": {},
   "outputs": [
    {
     "data": {
      "text/html": [
       "<div>\n",
       "<style scoped>\n",
       "    .dataframe tbody tr th:only-of-type {\n",
       "        vertical-align: middle;\n",
       "    }\n",
       "\n",
       "    .dataframe tbody tr th {\n",
       "        vertical-align: top;\n",
       "    }\n",
       "\n",
       "    .dataframe thead th {\n",
       "        text-align: right;\n",
       "    }\n",
       "</style>\n",
       "<table border=\"1\" class=\"dataframe\">\n",
       "  <thead>\n",
       "    <tr style=\"text-align: right;\">\n",
       "      <th></th>\n",
       "      <th>id</th>\n",
       "      <th>date</th>\n",
       "      <th>price</th>\n",
       "      <th>bedrooms</th>\n",
       "      <th>bathrooms</th>\n",
       "      <th>sqft_living</th>\n",
       "      <th>sqft_lot</th>\n",
       "      <th>floors</th>\n",
       "      <th>waterfront</th>\n",
       "      <th>view</th>\n",
       "      <th>...</th>\n",
       "      <th>grade</th>\n",
       "      <th>sqft_above</th>\n",
       "      <th>sqft_basement</th>\n",
       "      <th>yr_built</th>\n",
       "      <th>yr_renovated</th>\n",
       "      <th>zipcode</th>\n",
       "      <th>lat</th>\n",
       "      <th>long</th>\n",
       "      <th>sqft_living15</th>\n",
       "      <th>sqft_lot15</th>\n",
       "    </tr>\n",
       "  </thead>\n",
       "  <tbody>\n",
       "    <tr>\n",
       "      <th>0</th>\n",
       "      <td>7129300520</td>\n",
       "      <td>20141013T000000</td>\n",
       "      <td>221900.0</td>\n",
       "      <td>3</td>\n",
       "      <td>1.00</td>\n",
       "      <td>1180</td>\n",
       "      <td>5650</td>\n",
       "      <td>1.0</td>\n",
       "      <td>0</td>\n",
       "      <td>0</td>\n",
       "      <td>...</td>\n",
       "      <td>7</td>\n",
       "      <td>1180</td>\n",
       "      <td>0</td>\n",
       "      <td>1955</td>\n",
       "      <td>0</td>\n",
       "      <td>98178</td>\n",
       "      <td>47.5112</td>\n",
       "      <td>-122.257</td>\n",
       "      <td>1340</td>\n",
       "      <td>5650</td>\n",
       "    </tr>\n",
       "    <tr>\n",
       "      <th>1</th>\n",
       "      <td>6414100192</td>\n",
       "      <td>20141209T000000</td>\n",
       "      <td>538000.0</td>\n",
       "      <td>3</td>\n",
       "      <td>2.25</td>\n",
       "      <td>2570</td>\n",
       "      <td>7242</td>\n",
       "      <td>2.0</td>\n",
       "      <td>0</td>\n",
       "      <td>0</td>\n",
       "      <td>...</td>\n",
       "      <td>7</td>\n",
       "      <td>2170</td>\n",
       "      <td>400</td>\n",
       "      <td>1951</td>\n",
       "      <td>1991</td>\n",
       "      <td>98125</td>\n",
       "      <td>47.7210</td>\n",
       "      <td>-122.319</td>\n",
       "      <td>1690</td>\n",
       "      <td>7639</td>\n",
       "    </tr>\n",
       "    <tr>\n",
       "      <th>2</th>\n",
       "      <td>5631500400</td>\n",
       "      <td>20150225T000000</td>\n",
       "      <td>180000.0</td>\n",
       "      <td>2</td>\n",
       "      <td>1.00</td>\n",
       "      <td>770</td>\n",
       "      <td>10000</td>\n",
       "      <td>1.0</td>\n",
       "      <td>0</td>\n",
       "      <td>0</td>\n",
       "      <td>...</td>\n",
       "      <td>6</td>\n",
       "      <td>770</td>\n",
       "      <td>0</td>\n",
       "      <td>1933</td>\n",
       "      <td>0</td>\n",
       "      <td>98028</td>\n",
       "      <td>47.7379</td>\n",
       "      <td>-122.233</td>\n",
       "      <td>2720</td>\n",
       "      <td>8062</td>\n",
       "    </tr>\n",
       "    <tr>\n",
       "      <th>3</th>\n",
       "      <td>2487200875</td>\n",
       "      <td>20141209T000000</td>\n",
       "      <td>604000.0</td>\n",
       "      <td>4</td>\n",
       "      <td>3.00</td>\n",
       "      <td>1960</td>\n",
       "      <td>5000</td>\n",
       "      <td>1.0</td>\n",
       "      <td>0</td>\n",
       "      <td>0</td>\n",
       "      <td>...</td>\n",
       "      <td>7</td>\n",
       "      <td>1050</td>\n",
       "      <td>910</td>\n",
       "      <td>1965</td>\n",
       "      <td>0</td>\n",
       "      <td>98136</td>\n",
       "      <td>47.5208</td>\n",
       "      <td>-122.393</td>\n",
       "      <td>1360</td>\n",
       "      <td>5000</td>\n",
       "    </tr>\n",
       "    <tr>\n",
       "      <th>4</th>\n",
       "      <td>1954400510</td>\n",
       "      <td>20150218T000000</td>\n",
       "      <td>510000.0</td>\n",
       "      <td>3</td>\n",
       "      <td>2.00</td>\n",
       "      <td>1680</td>\n",
       "      <td>8080</td>\n",
       "      <td>1.0</td>\n",
       "      <td>0</td>\n",
       "      <td>0</td>\n",
       "      <td>...</td>\n",
       "      <td>8</td>\n",
       "      <td>1680</td>\n",
       "      <td>0</td>\n",
       "      <td>1987</td>\n",
       "      <td>0</td>\n",
       "      <td>98074</td>\n",
       "      <td>47.6168</td>\n",
       "      <td>-122.045</td>\n",
       "      <td>1800</td>\n",
       "      <td>7503</td>\n",
       "    </tr>\n",
       "  </tbody>\n",
       "</table>\n",
       "<p>5 rows × 21 columns</p>\n",
       "</div>"
      ],
      "text/plain": [
       "           id             date     price  bedrooms  bathrooms  sqft_living  \\\n",
       "0  7129300520  20141013T000000  221900.0         3       1.00         1180   \n",
       "1  6414100192  20141209T000000  538000.0         3       2.25         2570   \n",
       "2  5631500400  20150225T000000  180000.0         2       1.00          770   \n",
       "3  2487200875  20141209T000000  604000.0         4       3.00         1960   \n",
       "4  1954400510  20150218T000000  510000.0         3       2.00         1680   \n",
       "\n",
       "   sqft_lot  floors  waterfront  view  ...  grade  sqft_above  sqft_basement  \\\n",
       "0      5650     1.0           0     0  ...      7        1180              0   \n",
       "1      7242     2.0           0     0  ...      7        2170            400   \n",
       "2     10000     1.0           0     0  ...      6         770              0   \n",
       "3      5000     1.0           0     0  ...      7        1050            910   \n",
       "4      8080     1.0           0     0  ...      8        1680              0   \n",
       "\n",
       "   yr_built  yr_renovated  zipcode      lat     long  sqft_living15  \\\n",
       "0      1955             0    98178  47.5112 -122.257           1340   \n",
       "1      1951          1991    98125  47.7210 -122.319           1690   \n",
       "2      1933             0    98028  47.7379 -122.233           2720   \n",
       "3      1965             0    98136  47.5208 -122.393           1360   \n",
       "4      1987             0    98074  47.6168 -122.045           1800   \n",
       "\n",
       "   sqft_lot15  \n",
       "0        5650  \n",
       "1        7639  \n",
       "2        8062  \n",
       "3        5000  \n",
       "4        7503  \n",
       "\n",
       "[5 rows x 21 columns]"
      ]
     },
     "execution_count": 18,
     "metadata": {},
     "output_type": "execute_result"
    }
   ],
   "source": [
    "data = pd.read_csv('kc_house_data.csv')\n",
    "data.head()"
   ]
  },
  {
   "cell_type": "markdown",
   "metadata": {},
   "source": [
    "Построим гистограмму цены и выдвинем гипотезу о том, по какому закону она распределена:"
   ]
  },
  {
   "cell_type": "code",
   "execution_count": 19,
   "metadata": {},
   "outputs": [
    {
     "data": {
      "image/png": "[encoded data removed]",
      "text/plain": [
       "<Figure size 640x480 with 1 Axes>"
      ]
     },
     "metadata": {},
     "output_type": "display_data"
    }
   ],
   "source": [
    "price = data['price']\n",
    "plt.hist(price, bins=100, density=True)\n",
    "plt.show()"
   ]
  },
  {
   "cell_type": "markdown",
   "metadata": {},
   "source": [
    "Итак, введём следующую гипотезу о распределении:\n",
    "- $H_0$: цена распределена по закону логнормального распределения\n",
    "- $H_1$: цена не распределена по закону логнормального распределения\n",
    "\n",
    "Проверим гипотезу с помощью критерия согласия Пирсона:\n",
    "$$\\chi^2 = \\sum\\frac{(\\hat{n}_i - n_i)^2}{n_i}$$\n",
    "Здесь $\\hat{n}_i$ — эмпирическая частота, то есть частоты из выборки, а $n_i$ — теоретическая частота, то есть частоты, которые мы ожидаем, если бы гипотеза $H_0$ была верна.\n",
    "\n",
    "Уровень значимости зафиксируем в 0.05, как это часто и бывает."
   ]
  },
  {
   "cell_type": "code",
   "execution_count": 20,
   "metadata": {},
   "outputs": [
    {
     "name": "stdout",
     "output_type": "stream",
     "text": [
      "chi2=np.float64(55471.5148713883), p_value=np.float64(0.0), critical_value=np.float64(369.10609722763786)\n"
     ]
    },
    {
     "ename": "AssertionError",
     "evalue": "Гипотеза неверна",
     "output_type": "error",
     "traceback": [
      "\u001b[0;31m---------------------------------------------------------------------------\u001b[0m",
      "\u001b[0;31mAssertionError\u001b[0m                            Traceback (most recent call last)",
      "Cell \u001b[0;32mIn[20], line 14\u001b[0m\n\u001b[1;32m     11\u001b[0m critical_value \u001b[38;5;241m=\u001b[39m stats\u001b[38;5;241m.\u001b[39mchi2\u001b[38;5;241m.\u001b[39mppf(\u001b[38;5;241m1\u001b[39m \u001b[38;5;241m-\u001b[39m alpha, f)\n\u001b[1;32m     13\u001b[0m \u001b[38;5;28mprint\u001b[39m(\u001b[38;5;124mf\u001b[39m\u001b[38;5;124m'\u001b[39m\u001b[38;5;132;01m{\u001b[39;00mchi2\u001b[38;5;132;01m=}\u001b[39;00m\u001b[38;5;124m, \u001b[39m\u001b[38;5;132;01m{\u001b[39;00mp_value\u001b[38;5;132;01m=}\u001b[39;00m\u001b[38;5;124m, \u001b[39m\u001b[38;5;132;01m{\u001b[39;00mcritical_value\u001b[38;5;132;01m=}\u001b[39;00m\u001b[38;5;124m'\u001b[39m)\n\u001b[0;32m---> 14\u001b[0m \u001b[38;5;28;01massert\u001b[39;00m chi2 \u001b[38;5;241m<\u001b[39m critical_value, \u001b[38;5;124m'\u001b[39m\u001b[38;5;124mГипотеза неверна\u001b[39m\u001b[38;5;124m'\u001b[39m\n",
      "\u001b[0;31mAssertionError\u001b[0m: Гипотеза неверна"
     ]
    }
   ],
   "source": [
    "alpha = 0.05\n",
    "\n",
    "mu = np.mean(np.log(price))\n",
    "sigma = np.std(np.log(price))\n",
    "hat_n, bins = np.histogram(price, 'auto')\n",
    "n = (bins[1] - bins[0]) * len(price) * stats.lognorm.pdf(bins[:-1], sigma, scale=np.exp(mu))  # теоретическая частота\n",
    "f = len(hat_n) - 3  # число степеней свободы\n",
    "\n",
    "chi2 = np.sum((hat_n - n) ** 2 / n)  # статистика критерия\n",
    "p_value = 1 - stats.chi2.cdf(chi2, f)\n",
    "critical_value = stats.chi2.ppf(1 - alpha, f)\n",
    "\n",
    "print(f'{chi2=}, {p_value=}, {critical_value=}')\n",
    "assert chi2 < critical_value, 'Гипотеза неверна'"
   ]
  },
  {
   "cell_type": "markdown",
   "metadata": {},
   "source": [
    "Проверим гипотезу в том числе и с помощью критерия Колмогорова-Смирнова."
   ]
  },
  {
   "cell_type": "code",
   "execution_count": null,
   "metadata": {},
   "outputs": [
    {
     "name": "stdout",
     "output_type": "stream",
     "text": [
      "ks=np.float64(0.5212603525655856), p_value=np.float64(0.0)\n"
     ]
    },
    {
     "ename": "AssertionError",
     "evalue": "Гипотеза неверна",
     "output_type": "error",
     "traceback": [
      "\u001b[0;31m---------------------------------------------------------------------------\u001b[0m",
      "\u001b[0;31mAssertionError\u001b[0m                            Traceback (most recent call last)",
      "Cell \u001b[0;32mIn[8], line 4\u001b[0m\n\u001b[1;32m      1\u001b[0m ks, p_value \u001b[38;5;241m=\u001b[39m stats\u001b[38;5;241m.\u001b[39mkstest(price, \u001b[38;5;124m'\u001b[39m\u001b[38;5;124mlognorm\u001b[39m\u001b[38;5;124m'\u001b[39m, (sigma, np\u001b[38;5;241m.\u001b[39mexp(mu)))\n\u001b[1;32m      3\u001b[0m \u001b[38;5;28mprint\u001b[39m(\u001b[38;5;124mf\u001b[39m\u001b[38;5;124m'\u001b[39m\u001b[38;5;132;01m{\u001b[39;00mks\u001b[38;5;132;01m=}\u001b[39;00m\u001b[38;5;124m, \u001b[39m\u001b[38;5;132;01m{\u001b[39;00mp_value\u001b[38;5;132;01m=}\u001b[39;00m\u001b[38;5;124m'\u001b[39m)\n\u001b[0;32m----> 4\u001b[0m \u001b[38;5;28;01massert\u001b[39;00m p_value \u001b[38;5;241m>\u001b[39m\u001b[38;5;241m=\u001b[39m alpha, \u001b[38;5;124m'\u001b[39m\u001b[38;5;124mГипотеза неверна\u001b[39m\u001b[38;5;124m'\u001b[39m\n",
      "\u001b[0;31mAssertionError\u001b[0m: Гипотеза неверна"
     ]
    }
   ],
   "source": [
    "ks, p_value = stats.kstest(price, 'lognorm', (sigma, np.exp(mu)))\n",
    "\n",
    "print(f'{ks=}, {p_value=}')\n",
    "assert p_value >= alpha, 'Гипотеза неверна'"
   ]
  },
  {
   "cell_type": "markdown",
   "metadata": {},
   "source": [
    "Итак, гипотеза неверна при двух стат.тестах, значит цена не распределена по закону логнормального распределения.\n",
    "\n",
    "---\n",
    "\n",
    "Рассмотрим две новые гипотезы:\n",
    "- $H_0$: цена на старый и новый фонд распределена одинаково\n",
    "- $H_1$: цена на старый и новый фонд распределена по-разному\n",
    "\n",
    "Критическим возьмём значение в 2000 — всё, что меньше, относится к старому фонду, всё, начиная с этого года — к новому. И разделим датасет на две части."
   ]
  },
  {
   "cell_type": "code",
   "execution_count": 9,
   "metadata": {},
   "outputs": [],
   "source": [
    "crit = 2000\n",
    "old_price = data[data['yr_built'] < crit]['price']\n",
    "new_price = data[data['yr_built'] >= crit]['price']"
   ]
  },
  {
   "cell_type": "markdown",
   "metadata": {},
   "source": [
    "Проверим гипотезу с помощью критерия согласия Пирсона для двух независимых выборок:\n",
    "$$\\chi^2 = n_1n_2\\sum_{i=1}^{r}\\frac{\\left(\\frac{m_i}{n_1} - \\frac{l_i}{n_2}\\right)}{m_i+l_i},$$\n",
    "где $m_i$ и $l_i$ — частоты встречаемости $i$-го значения в первой и второй выборках соответственно, $n_1$ и $n_2$ — размеры выборок."
   ]
  },
  {
   "cell_type": "code",
   "execution_count": 10,
   "metadata": {},
   "outputs": [
    {
     "name": "stdout",
     "output_type": "stream",
     "text": [
      "chi2=np.float64(39586.35210107894), p_value=np.float64(0.0), critical_value=np.float64(23.684791304840576)\n"
     ]
    },
    {
     "ename": "AssertionError",
     "evalue": "Гипотеза неверна",
     "output_type": "error",
     "traceback": [
      "\u001b[0;31m---------------------------------------------------------------------------\u001b[0m",
      "\u001b[0;31mAssertionError\u001b[0m                            Traceback (most recent call last)",
      "Cell \u001b[0;32mIn[10], line 12\u001b[0m\n\u001b[1;32m      9\u001b[0m critical_value \u001b[38;5;241m=\u001b[39m stats\u001b[38;5;241m.\u001b[39mchi2\u001b[38;5;241m.\u001b[39mppf(\u001b[38;5;241m1\u001b[39m \u001b[38;5;241m-\u001b[39m alpha, f)\n\u001b[1;32m     11\u001b[0m \u001b[38;5;28mprint\u001b[39m(\u001b[38;5;124mf\u001b[39m\u001b[38;5;124m'\u001b[39m\u001b[38;5;132;01m{\u001b[39;00mchi2\u001b[38;5;132;01m=}\u001b[39;00m\u001b[38;5;124m, \u001b[39m\u001b[38;5;132;01m{\u001b[39;00mp_value\u001b[38;5;132;01m=}\u001b[39;00m\u001b[38;5;124m, \u001b[39m\u001b[38;5;132;01m{\u001b[39;00mcritical_value\u001b[38;5;132;01m=}\u001b[39;00m\u001b[38;5;124m'\u001b[39m)\n\u001b[0;32m---> 12\u001b[0m \u001b[38;5;28;01massert\u001b[39;00m chi2 \u001b[38;5;241m<\u001b[39m critical_value, \u001b[38;5;124m'\u001b[39m\u001b[38;5;124mГипотеза неверна\u001b[39m\u001b[38;5;124m'\u001b[39m\n",
      "\u001b[0;31mAssertionError\u001b[0m: Гипотеза неверна"
     ]
    }
   ],
   "source": [
    "n1, n2 = len(old_price), len(new_price)\n",
    "\n",
    "m, _ = np.histogram(old_price, 15)\n",
    "l, _ = np.histogram(new_price, 15)\n",
    "f = len(l) - 1  # число степеней свободы\n",
    "\n",
    "chi2 = n1 * n2 * np.sum((l / n1 - m / n2) ** 2 / (m + l))  # статистика критерия\n",
    "p_value = 1 - stats.chi2.cdf(chi2, f)\n",
    "critical_value = stats.chi2.ppf(1 - alpha, f)\n",
    "\n",
    "print(f'{chi2=}, {p_value=}, {critical_value=}')\n",
    "assert chi2 < critical_value, 'Гипотеза неверна'"
   ]
  },
  {
   "cell_type": "markdown",
   "metadata": {},
   "source": [
    "Распределения не совпадают, так как значение статистики $\\chi^2$ больше критического значения. Теперь перейдём к критерию Колмогорова-Смирнова."
   ]
  },
  {
   "cell_type": "code",
   "execution_count": null,
   "metadata": {},
   "outputs": [
    {
     "name": "stdout",
     "output_type": "stream",
     "text": [
      "ks=np.float64(0.15215404572296398), p_value=np.float64(1.7763663434258002e-75)\n"
     ]
    },
    {
     "ename": "AssertionError",
     "evalue": "Гипотеза неверна",
     "output_type": "error",
     "traceback": [
      "\u001b[0;31m---------------------------------------------------------------------------\u001b[0m",
      "\u001b[0;31mAssertionError\u001b[0m                            Traceback (most recent call last)",
      "Cell \u001b[0;32mIn[11], line 4\u001b[0m\n\u001b[1;32m      1\u001b[0m ks, p_value \u001b[38;5;241m=\u001b[39m stats\u001b[38;5;241m.\u001b[39mks_2samp(old_price, new_price)\n\u001b[1;32m      3\u001b[0m \u001b[38;5;28mprint\u001b[39m(\u001b[38;5;124mf\u001b[39m\u001b[38;5;124m'\u001b[39m\u001b[38;5;132;01m{\u001b[39;00mks\u001b[38;5;132;01m=}\u001b[39;00m\u001b[38;5;124m, \u001b[39m\u001b[38;5;132;01m{\u001b[39;00mp_value\u001b[38;5;132;01m=}\u001b[39;00m\u001b[38;5;124m'\u001b[39m)\n\u001b[0;32m----> 4\u001b[0m \u001b[38;5;28;01massert\u001b[39;00m p_value \u001b[38;5;241m>\u001b[39m\u001b[38;5;241m=\u001b[39m alpha, \u001b[38;5;124m'\u001b[39m\u001b[38;5;124mГипотеза неверна\u001b[39m\u001b[38;5;124m'\u001b[39m\n",
      "\u001b[0;31mAssertionError\u001b[0m: Гипотеза неверна"
     ]
    }
   ],
   "source": [
    "ks, p_value = stats.ks_2samp(old_price, new_price)\n",
    "\n",
    "print(f'{ks=}, {p_value=}')\n",
    "assert p_value >= alpha, 'Гипотеза неверна'"
   ]
  },
  {
   "cell_type": "markdown",
   "metadata": {},
   "source": [
    "Согласно критерию Колмогорова-Смирнова, гипотеза о равенстве распределений также отвергается.\n",
    "\n",
    "---\n",
    "\n",
    "Чтобы выяснить, коррелирует ли жилищная площадь с ценой, для начал выделим необходимые нам столбцы и визуализируем зависимость, чтобы выдвинуть гипотезу."
   ]
  },
  {
   "cell_type": "code",
   "execution_count": 12,
   "metadata": {},
   "outputs": [
    {
     "data": {
      "image/png": "[encoded data removed]",
      "text/plain": [
       "<Figure size 640x480 with 1 Axes>"
      ]
     },
     "metadata": {},
     "output_type": "display_data"
    }
   ],
   "source": [
    "living_sqfts = data[['sqft_living', 'price']]\n",
    "\n",
    "plt.scatter(living_sqfts['sqft_living'], living_sqfts['price'])\n",
    "plt.show()"
   ]
  },
  {
   "cell_type": "markdown",
   "metadata": {},
   "source": [
    "Визуально по точечной диаграмме можно сказать, что зависимость есть, но проверим статистически. Введём следующую гипотезу:\n",
    "- $H_0$: при увеличении жилищной площади цена не растёт ($r = 0$)\n",
    "- $H_1$: при увеличении жилищной площади цена растёт ($r > 0$)\n",
    "\n",
    "Проверим гипотезу с помощью корреляции Пирсона, которая как раз рассчитывает коэффициент линейной корреляции между двумя наборами данных:\n",
    "$$r = \\frac{\\overline{XY} - \\overline{X}\\overline{Y}}{\\sqrt{\\left(\\overline{X^2} - \\overline{X}^2\\right)\\left(\\overline{Y^2} - \\overline{Y}^2\\right)}}$$\n",
    "\n",
    "Реализуем корреляцию самостоятельно."
   ]
  },
  {
   "cell_type": "code",
   "execution_count": 13,
   "metadata": {},
   "outputs": [
    {
     "data": {
      "text/plain": [
       "np.float64(0.7020350546118)"
      ]
     },
     "execution_count": 13,
     "metadata": {},
     "output_type": "execute_result"
    }
   ],
   "source": [
    "x, y = living_sqfts['sqft_living'], living_sqfts['price']\n",
    "x_mean, y_mean = np.mean(x), np.mean(y)\n",
    "\n",
    "r = np.sum((x - x_mean) * (y - y_mean)) / np.sqrt(np.sum((x - x_mean) ** 2) * np.sum((y - y_mean) ** 2))\n",
    "r"
   ]
  },
  {
   "cell_type": "markdown",
   "metadata": {},
   "source": [
    "Выполним расчёт p-value с использованием t-теста (зафиксируем значимость в 0.05), используя следующую формулу:\n",
    "$$t = r \\sqrt{\\frac{n-2}{1-r^2}}$$"
   ]
  },
  {
   "cell_type": "code",
   "execution_count": 14,
   "metadata": {},
   "outputs": [
    {
     "name": "stdout",
     "output_type": "stream",
     "text": [
      "t=np.float64(144.9203561982449), p_value=np.float64(0.0)\n"
     ]
    }
   ],
   "source": [
    "n = len(living_sqfts)\n",
    "t = r * np.sqrt(n - 2) / np.sqrt(1 - r**2)\n",
    "f = n - 2  # число степеней свободы\n",
    "p_value = 1 - stats.t.cdf(t, f)\n",
    "\n",
    "print(f'{t=}, {p_value=}')\n",
    "assert p_value < alpha, 'Гипотеза неверна'"
   ]
  },
  {
   "cell_type": "markdown",
   "metadata": {},
   "source": [
    "Гипотеза о том, что при увеличении жилищной площади цена растёт, подтверждается, так как p-value меньше уровня значимости.\n",
    "\n",
    "Проверим также с помощью готовой реализации линейной регрессии (или метода наименьших квадратов)."
   ]
  },
  {
   "cell_type": "code",
   "execution_count": 16,
   "metadata": {},
   "outputs": [],
   "source": [
    "x = sm.add_constant(x)\n",
    "\n",
    "linear_model = sm.OLS(y, x).fit()\n",
    "\n",
    "assert linear_model.pvalues.iloc[1] < alpha, 'Гипотеза неверна'"
   ]
  },
  {
   "cell_type": "markdown",
   "metadata": {},
   "source": [
    "Код отработал корректно — это значит, что мы отвергаем нулевую гипотезу."
   ]
  }
 ],
 "metadata": {
  "kernelspec": {
   "display_name": "education",
   "language": "python",
   "name": "python3"
  },
  "language_info": {
   "codemirror_mode": {
    "name": "ipython",
    "version": 3
   },
   "file_extension": ".py",
   "mimetype": "text/x-python",
   "name": "python",
   "nbconvert_exporter": "python",
   "pygments_lexer": "ipython3",
   "version": "3.12.7"
  }
 },
 "nbformat": 4,
 "nbformat_minor": 2
}
