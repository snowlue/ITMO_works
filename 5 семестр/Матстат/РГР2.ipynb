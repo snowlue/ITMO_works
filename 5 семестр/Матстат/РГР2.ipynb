{
 "cells": [
  {
   "cell_type": "markdown",
   "metadata": {},
   "source": [
    "### Расчётно-графическая работа №2\n",
    "*Выполнил студент группы R3341 Овчинников Павел (вариант №2.4)*\n",
    "\n",
    "---"
   ]
  },
  {
   "cell_type": "markdown",
   "metadata": {},
   "source": [
    "## Задание №1 (вариант №2)\n",
    "Предъявить доверительный интервал уровня $1 - \\alpha$ для указанного параметра при данных предположениях (с математическими обоснованиями). Сгенерировать 2 выборки объёма 25 и посчитать доверительный интервал. Повторить 1000 раз. Посчитать, сколько раз 95-процентный доверительный интервал покрывает реальное значение параметра. То же самое сделать для объёма выборки 10000. Сравнить результаты и объяснить полученные различия. Что изменяется при росте объёмов выборок?\n",
    "\n",
    "Даны две независимые выборки $X_1$ и $X_2$ из нормальных распределений $\\mathcal{N}(\\mu_1, \\sigma_1^2), \\mathcal{N}(\\mu_2, \\sigma_2^2)$ объёмов $n_1, n_2$ соответственно. Сначала указывается оцениваемая функция, потом данные об остальных параметрах, затем параметры эксперимента и подсказки.\n",
    "\n",
    "$\\tau = \\mu_1 - \\mu_2$; $\\sigma_1^2=\\sigma_2^2$ неизвестна; $\\mu_1=2$, $\\mu_2=1$, $\\sigma_1^2=\\sigma_2^2=1$; воспользоваться функцией\n",
    "$$\\sqrt{\\frac{n_1n_2\\left(n_1+n_2-2\\right)}{n_1+n_2}}\\frac{\\overline{X_1}-\\overline{X_2}-\\tau}{\\sqrt{n_1S_*^2(X_1)+n_2S_*^2(X_2)}},$$\n",
    "где $S_*^2(X_i)$ — выборочная смещённая дисперсия для выборки $X_i$. Смотреть в сторону распредления Стьюдента.\n",
    "\n",
    "### Решение\n",
    "Для начала обозначим, что т.к. обе независисые выборки из нормальных распределений, то их разность также будет нормально распределена. Согласно теореме Фишера, получаем:\n",
    "$$\\sqrt{n}\\frac{\\overline{X} - \\mu}{\\sigma} \\sim N(0, 1)\\qquad \\sqrt{n} \\frac{\\overline{X} - \\mu}{s} \\sim T(n-1)$$\n",
    "Выборки независимы, а их дисперсии равны, поэтому дисперсия разности равна $\\sigma^2 \\left(\\frac{1}{n_1}+\\frac{1}{n_2}\\right)$.  \n",
    "Воспользуемся несмещенной объединенной оценкой дисперсии (гипотеза о равенстве дисперсий не отвергается, поэтому $T$ имеет распределение Стьюдента с $n_1+n_2-2$ степенями свободы):\n",
    "$$s_X^2 = \\frac{\\left((n_1-1)s_1^2 + (n_2-1)s_2^2\\right)}{n_1+n_2-2}$$\n",
    "И с помощью оценки и указанной выше функции запишем:\n",
    "$$\\frac{\\overline{X_1}-\\overline{X_2}-\\tau}{s_X\\sqrt{\\frac{1}{n_1}+\\frac{1}{n_2}}} = T(n_1+n_2-2)$$\n",
    "Перепишем данную формулу через смещенную выборочную дисперсию:\n",
    "$$s_X^2 = \\frac{\\left(n_1S^2_*(X_1)+n_2S^2_*(X_2)\\right)}{n_1+n_2-2} \\quad\\Rightarrow\\quad \\sqrt{\\frac{n_1n_2\\left(n_1+n_2-2\\right)}{n_1+n_2}}\\frac{\\overline{X_1}-\\overline{X_2}-\\tau}{\\sqrt{n_1S_*^2(X_1)+n_2S_*^2(X_2)}} = T(n_1+n_2-2)$$\n",
    "Получаем исходную функцию из задания.\n",
    "\n",
    "По заданию объёмы выборок одинаковые, поэтому перепишем функцию с учётом этого:\n",
    "$$\\sqrt{\\frac{n^2\\left(2n-2\\right)}{2n}}\\frac{\\overline{X_1}-\\overline{X_2}-\\tau}{\\sqrt{nS_*^2(X_1)+nS_*^2(X_2)}} = \\sqrt{\\frac{2n^2\\left(n-1\\right)}{2n^2}}\\frac{\\overline{X_1}-\\overline{X_2}-\\tau}{\\sqrt{S_*^2(X_1)+S_*^2(X_2)}} = \\sqrt{n-1}\\frac{\\overline{X_1}-\\overline{X_2}-\\tau}{\\sqrt{S_*^2(X_1)+S_*^2(X_2)}}$$\n",
    "Теперь воспользуемся доверительным интервалом для стандартного нормального распределния с уровнем значимости $\\alpha$:\n",
    "$$P(-t_{\\gamma}\\leqslant Z \\leqslant t_{\\gamma}) = 1 - \\alpha$$\n",
    "Подставим получившуюся выше функцию в доверительный интервал, оставив только содержимое в скобках, и будем выражать $\\tau$:\n",
    "$$-t_{\\gamma}\\leqslant \\sqrt{n-1}\\frac{\\overline{X_1}-\\overline{X_2}-\\tau}{\\sqrt{S_*^2(X_1)+S_*^2(X_2)}} \\leqslant t_{\\gamma}$$\n",
    "$$\\Downarrow$$\n",
    "$$-t_{\\gamma}\\sqrt{\\frac{S_*^2(X_1)+S_*^2(X_2)}{n-1}}\\leqslant\\overline{X_1}-\\overline{X_2}-\\tau\\leqslant t_{\\gamma}\\sqrt{\\frac{S_*^2(X_1)+S_*^2(X_2)}{n-1}}$$\n",
    "$$\\Downarrow$$\n",
    "$$-t_{\\gamma}\\sqrt{\\frac{S_*^2(X_1)+S_*^2(X_2)}{n-1}}-\\overline{X_1}+\\overline{X_2}\\leqslant-\\tau\\leqslant t_{\\gamma}\\sqrt{\\frac{S_*^2(X_1)+S_*^2(X_2)}{n-1}}-\\overline{X_1}+\\overline{X_2}$$\n",
    "$$\\Downarrow$$\n",
    "$$-t_{\\gamma}\\sqrt{\\frac{S_*^2(X_1)+S_*^2(X_2)}{n-1}}+\\overline{X_1}-\\overline{X_2}\\leqslant\\tau\\leqslant t_{\\gamma}\\sqrt{\\frac{S_*^2(X_1)+S_*^2(X_2)}{n-1}}+\\overline{X_1}-\\overline{X_2}$$\n",
    "Наконец, получаем интервал в следующем виде:\n",
    "$$\\left[-t_{\\gamma}\\sqrt{\\frac{S_*^2(X_1)+S_*^2(X_2)}{n-1}}+\\overline{X_1}-\\overline{X_2};\\quad t_{\\gamma}\\sqrt{\\frac{S_*^2(X_1)+S_*^2(X_2)}{n-1}}+\\overline{X_1}-\\overline{X_2}\\right]$$\n",
    "Проведём эксперимент — посчитаем доверительный интервал 1000 раз для объёмов выборок $n=25$ и $n=10000$ и посчитаем, сколько раз доверительный интвервал покрывает реальное значение параметра."
   ]
  },
  {
   "cell_type": "code",
   "execution_count": 1,
   "metadata": {},
   "outputs": [
    {
     "name": "stdout",
     "output_type": "stream",
     "text": [
      "Покрытие при n = 25: 94.6%\n",
      "Покрытие при n = 10000: 95.6%\n"
     ]
    }
   ],
   "source": [
    "import numpy as np\n",
    "from scipy import stats\n",
    "\n",
    "mu_1, mu_2 = 2, 1\n",
    "sigma_1 = sigma_2 = 1\n",
    "tau = mu_1 - mu_2\n",
    "alpha = 0.05\n",
    "\n",
    "\n",
    "def get_prop_of_coverage(n):\n",
    "    count = 0\n",
    "\n",
    "    t = stats.t.ppf(1 - alpha / 2, 2 * n - 2)\n",
    "\n",
    "    for _ in range(1000):\n",
    "        X1 = np.random.normal(mu_1, sigma_1, n)\n",
    "        X2 = np.random.normal(mu_2, sigma_2, n)\n",
    "\n",
    "        X1_variance = np.var(X1)\n",
    "        X2_variance = np.var(X2)\n",
    "\n",
    "        X1_mean = np.mean(X1)\n",
    "        X2_mean = np.mean(X2)\n",
    "\n",
    "        base = t * np.sqrt((X1_variance + X2_variance) / (n - 1))\n",
    "        left, right = -base, base\n",
    "        left += X1_mean - X2_mean\n",
    "        right += X1_mean - X2_mean\n",
    "\n",
    "        if left <= tau <= right:\n",
    "            count += 1\n",
    "\n",
    "    return count / 10  # count / 1000 * 100\n",
    "\n",
    "\n",
    "for n in 25, 10000:\n",
    "    print(f'Покрытие при n = {n}: {get_prop_of_coverage(n)}%')"
   ]
  },
  {
   "cell_type": "markdown",
   "metadata": {},
   "source": [
    "## Задание №2 (вариант №4)\n",
    "Предъявить асимптотический доверительный интервал уровня $1 - \\alpha$ для указанного параметра. Провести эксперимент по схеме, аналогичной первой задаче.  \n",
    "Класс распредления — $\\text{Geom}(p)$. Параметр $p = 0.7$.\n",
    "\n",
    "Вероятность того, что случайная величинв $X = k$, для геометрического распредления выражается как: $P(X = k) = p(1 - p)^{k-1},\\ k = 1, 2, \\dots, m$. Оценка максмального правдоподобия для такого распределения имеет вид:\n",
    "$$\\hat{p} = \\frac{1}{\\overline{X}}$$\n",
    "При большом $n$, согласно ЦПТ, $\\hat{p}$ имеет нормальное распределение с дисперсией:\n",
    "$$\\text{Var}(\\hat{p}) \\approx \\frac{\\hat{p}^2(1-\\hat{p})}{n}$$\n",
    "Тогда асимптотический доверительный интервал уровня $1 - \\alpha$ для параметра $p$ имеет вид:\n",
    "$$\\left[\\hat{p} - z_{\\gamma}\\sqrt{\\frac{\\hat{p}^2(1-\\hat{p})}{n}};\\quad \\hat{p} + z_{\\gamma}\\sqrt{\\frac{\\hat{p}^2(1-\\hat{p})}{n}}\\right]$$\n",
    "$$\\Downarrow$$\n",
    "$$\\left[\\hat{p} - z_{\\gamma}\\frac{1}{\\overline{X}}\\sqrt{\\frac{(1-\\hat{p})}{n}};\\quad \\hat{p} + z_{\\gamma}\\frac{1}{\\overline{X}}\\sqrt{\\frac{(1-\\hat{p})}{n}}\\right]$$\n",
    "\n",
    "Проведём тот же эксперимент, что и в первой задаче, но для геометрического распределения."
   ]
  },
  {
   "cell_type": "code",
   "execution_count": null,
   "metadata": {},
   "outputs": [
    {
     "name": "stdout",
     "output_type": "stream",
     "text": [
      "Покрытие при n = 25: 94.0%\n",
      "Покрытие при n = 10000: 96.0%\n"
     ]
    }
   ],
   "source": [
    "p = 0.7\n",
    "alpha = 0.05\n",
    "\n",
    "\n",
    "def get_prop_of_coverage(n):\n",
    "    count = 0\n",
    "\n",
    "    z = stats.norm.ppf(1 - alpha / 2)\n",
    "\n",
    "    for _ in range(1000):\n",
    "        X = np.random.geometric(p, n)\n",
    "\n",
    "        X_mean = np.mean(X)\n",
    "        X_esr = 1 / X_mean  # estimated success rate\n",
    "        base = z * np.sqrt((1 - X_esr) / n) / X_mean\n",
    "\n",
    "        left, right = -base, base\n",
    "        left += X_esr\n",
    "        right += X_esr\n",
    "\n",
    "        if left <= p <= right:\n",
    "            count += 1\n",
    "\n",
    "    return count / 10  # count / 1000 * 100\n",
    "\n",
    "\n",
    "for n in 25, 10000:\n",
    "    print(f'Покрытие при n = {n}: {get_prop_of_coverage(n)}%')"
   ]
  },
  {
   "cell_type": "markdown",
   "metadata": {},
   "source": [
    "## Вывод\n",
    "\n",
    "Заметим, что в обоих случая процент прокрытия вырастает. Это связано с тем, что при увеличении объёма выборки уменьшается дисперсия оценки параметра, что в свою очередь сужает доверительный интервал. Таким образом, при увеличении объёма выборки увеличивается точность оценки параметра."
   ]
  }
 ],
 "metadata": {
  "kernelspec": {
   "display_name": "education",
   "language": "python",
   "name": "python3"
  },
  "language_info": {
   "codemirror_mode": {
    "name": "ipython",
    "version": 3
   },
   "file_extension": ".py",
   "mimetype": "text/x-python",
   "name": "python",
   "nbconvert_exporter": "python",
   "pygments_lexer": "ipython3",
   "version": "3.12.7"
  }
 },
 "nbformat": 4,
 "nbformat_minor": 2
}
