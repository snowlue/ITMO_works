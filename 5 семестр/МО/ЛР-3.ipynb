{
  "cells": [
    {
      "cell_type": "markdown",
      "metadata": {
        "id": "2WNRov85xXzx"
      },
      "source": [
        "# Лабораторная работа №3\n",
        "> Выполнили:  \n",
        "> – 339080, Дьячихин Данила Никитич  \n",
        "> – 368606, Овчинников Павел Алексеевич\n",
        "\n",
        "**Цель работы:** построить модель регрессии на основе модели k ближайших соседей и модели классификации на основе алгоритма логистической регрессии.\n",
        "\n",
        "**Инструменты:** модели регрессии (`KNeighborsRegressor`) и классификации (`LogisticRegression`) из пакета scikit-learn.\n",
        "\n",
        "Будем использовать датасеты, полученные в результате выполнения лабораторной работы №1: `Advertising_preprocessed.csv` и `heart_preprocessed.csv`"
      ]
    },
    {
      "cell_type": "markdown",
      "metadata": {
        "id": "70QHEEa1xXz1"
      },
      "source": [
        "Импортируем необходимые библиотеки и загрузим датасеты"
      ]
    },
    {
      "cell_type": "code",
      "execution_count": null,
      "metadata": {
        "id": "2zQdADDpxXz3",
        "outputId": "ba24ae0d-63d2-4d61-c1f0-b90c7e9286fc"
      },
      "outputs": [
        {
          "name": "stdout",
          "output_type": "stream",
          "text": [
            "<class 'pandas.core.frame.DataFrame'>\n",
            "RangeIndex: 198 entries, 0 to 197\n",
            "Data columns (total 5 columns):\n",
            " #   Column     Non-Null Count  Dtype  \n",
            "---  ------     --------------  -----  \n",
            " 0   TV         198 non-null    float64\n",
            " 1   radio      198 non-null    float64\n",
            " 2   newspaper  198 non-null    float64\n",
            " 3   sales      198 non-null    float64\n",
            " 4   n/(n+r)    198 non-null    float64\n",
            "dtypes: float64(5)\n",
            "memory usage: 7.9 KB\n",
            "None\n",
            "<class 'pandas.core.frame.DataFrame'>\n",
            "RangeIndex: 296 entries, 0 to 295\n",
            "Data columns (total 14 columns):\n",
            " #   Column    Non-Null Count  Dtype  \n",
            "---  ------    --------------  -----  \n",
            " 0   age       296 non-null    float64\n",
            " 1   sex       296 non-null    int64  \n",
            " 2   cp        296 non-null    int64  \n",
            " 3   trestbps  296 non-null    float64\n",
            " 4   chol      296 non-null    float64\n",
            " 5   fbs       296 non-null    int64  \n",
            " 6   restecg   296 non-null    int64  \n",
            " 7   thalach   296 non-null    float64\n",
            " 8   exang     296 non-null    int64  \n",
            " 9   oldpeak   296 non-null    float64\n",
            " 10  slope     296 non-null    int64  \n",
            " 11  ca        296 non-null    int64  \n",
            " 12  thal      296 non-null    int64  \n",
            " 13  target    296 non-null    int64  \n",
            "dtypes: float64(5), int64(9)\n",
            "memory usage: 32.5 KB\n",
            "None\n"
          ]
        }
      ],
      "source": [
        "import numpy as np\n",
        "import pandas as pd\n",
        "from sklearn.model_selection import train_test_split, GridSearchCV\n",
        "from sklearn.neighbors import KNeighborsRegressor\n",
        "from sklearn.linear_model import LogisticRegression\n",
        "from sklearn.metrics import accuracy_score, precision_score, recall_score, f1_score, roc_curve, auc, classification_report, mean_squared_error, r2_score\n",
        "import matplotlib.pyplot as plt\n",
        "\n",
        "advertising = pd.read_csv('Advertising_preprocessed.csv')\n",
        "heart = pd.read_csv('heart_preprocessed.csv')\n",
        "print(advertising.info())\n",
        "print(heart.info())"
      ]
    },
    {
      "cell_type": "markdown",
      "metadata": {
        "id": "-sEI358wxXz4"
      },
      "source": [
        "#   Регрессия - KNeighborsRegressor\n",
        "\n",
        "Основные указания пункта:\n",
        ">1.Количество соседей `n_neighbors`: не менее 3 различных значе- ний. Обязательно рассмотреть случай `n_neighbors` = 1;  \n",
        ">2.Вес объектов weights: рассмотреть `uniform` и `distance`;  \n",
        ">3.Метрика: метрика городских кварталов (`cityblock`), евклидова метрика (`euclidean`) и метрика Чебышева (`scipy.spatial.distance.chebyshev`).  \n",
        ">4.Используя GridSearchCV определить лучший регрессор.  "
      ]
    },
    {
      "cell_type": "markdown",
      "metadata": {
        "id": "tAFNgjN8xXz6"
      },
      "source": [
        "Разобьем данные на обучающую и тестовую выборки (соотношение - 80/20)"
      ]
    },
    {
      "cell_type": "code",
      "execution_count": null,
      "metadata": {
        "id": "SYNXHxb4xXz7"
      },
      "outputs": [],
      "source": [
        "X_reg = advertising.drop(columns=['sales'])\n",
        "y_reg = advertising['sales']\n",
        "\n",
        "X_reg_train, X_reg_test, y_reg_train, y_reg_test = train_test_split(X_reg, y_reg, test_size=0.2, random_state=42)"
      ]
    },
    {
      "cell_type": "markdown",
      "metadata": {
        "id": "imImDT6YxXz7"
      },
      "source": [
        "Зададим параметры для перебора в регрессоре\n",
        "\n",
        "1.`n_neighbors` — Количество ближайших соседей.  \n",
        "Определяет, сколько соседей учитывать при прогнозировании.\n",
        "\n",
        "2.`weights` — Веса соседей.  \n",
        ">`uniform` — все соседи равнозначны, их влияние одинаковое.  \n",
        ">`distance` — соседи с меньшим расстоянием к точке имеют больший вес.  \n",
        "\n",
        "3.`metric` — Метрика расстояния\n",
        ">`euclidean` (Евклидово расстояние) - стандартная метрика расстояний в многомерном пространстве.  \n",
        ">`cityblock` (Манхэттенское расстояние) - сумма абсолютных разностей координат.  \n",
        ">`chebyshev` (Расстояние Чебышева) - наибольшая разность по отдельным координатам.  "
      ]
    },
    {
      "cell_type": "code",
      "execution_count": null,
      "metadata": {
        "id": "zPHqAJ3_xXz7"
      },
      "outputs": [],
      "source": [
        "knn_params = {\n",
        "    'n_neighbors': [1, 3, 5, 7],\n",
        "    'weights': ['uniform', 'distance'],\n",
        "    'metric': ['cityblock', 'euclidean', 'chebyshev']\n",
        "}"
      ]
    },
    {
      "cell_type": "markdown",
      "metadata": {
        "id": "L8eLlwXtxXz8"
      },
      "source": [
        "Обучим модель регрессии"
      ]
    },
    {
      "cell_type": "code",
      "execution_count": null,
      "metadata": {
        "id": "UL3KvI8AxXz8",
        "outputId": "2f437c1f-4ae8-478a-f2c1-3fd32a2076a1"
      },
      "outputs": [
        {
          "data": {
            "text/html": [
              "<style>#sk-container-id-3 {\n",
              "  /* Definition of color scheme common for light and dark mode */\n",
              "  --sklearn-color-text: #000;\n",
              "  --sklearn-color-text-muted: #666;\n",
              "  --sklearn-color-line: gray;\n",
              "  /* Definition of color scheme for unfitted estimators */\n",
              "  --sklearn-color-unfitted-level-0: #fff5e6;\n",
              "  --sklearn-color-unfitted-level-1: #f6e4d2;\n",
              "  --sklearn-color-unfitted-level-2: #ffe0b3;\n",
              "  --sklearn-color-unfitted-level-3: chocolate;\n",
              "  /* Definition of color scheme for fitted estimators */\n",
              "  --sklearn-color-fitted-level-0: #f0f8ff;\n",
              "  --sklearn-color-fitted-level-1: #d4ebff;\n",
              "  --sklearn-color-fitted-level-2: #b3dbfd;\n",
              "  --sklearn-color-fitted-level-3: cornflowerblue;\n",
              "\n",
              "  /* Specific color for light theme */\n",
              "  --sklearn-color-text-on-default-background: var(--sg-text-color, var(--theme-code-foreground, var(--jp-content-font-color1, black)));\n",
              "  --sklearn-color-background: var(--sg-background-color, var(--theme-background, var(--jp-layout-color0, white)));\n",
              "  --sklearn-color-border-box: var(--sg-text-color, var(--theme-code-foreground, var(--jp-content-font-color1, black)));\n",
              "  --sklearn-color-icon: #696969;\n",
              "\n",
              "  @media (prefers-color-scheme: dark) {\n",
              "    /* Redefinition of color scheme for dark theme */\n",
              "    --sklearn-color-text-on-default-background: var(--sg-text-color, var(--theme-code-foreground, var(--jp-content-font-color1, white)));\n",
              "    --sklearn-color-background: var(--sg-background-color, var(--theme-background, var(--jp-layout-color0, #111)));\n",
              "    --sklearn-color-border-box: var(--sg-text-color, var(--theme-code-foreground, var(--jp-content-font-color1, white)));\n",
              "    --sklearn-color-icon: #878787;\n",
              "  }\n",
              "}\n",
              "\n",
              "#sk-container-id-3 {\n",
              "  color: var(--sklearn-color-text);\n",
              "}\n",
              "\n",
              "#sk-container-id-3 pre {\n",
              "  padding: 0;\n",
              "}\n",
              "\n",
              "#sk-container-id-3 input.sk-hidden--visually {\n",
              "  border: 0;\n",
              "  clip: rect(1px 1px 1px 1px);\n",
              "  clip: rect(1px, 1px, 1px, 1px);\n",
              "  height: 1px;\n",
              "  margin: -1px;\n",
              "  overflow: hidden;\n",
              "  padding: 0;\n",
              "  position: absolute;\n",
              "  width: 1px;\n",
              "}\n",
              "\n",
              "#sk-container-id-3 div.sk-dashed-wrapped {\n",
              "  border: 1px dashed var(--sklearn-color-line);\n",
              "  margin: 0 0.4em 0.5em 0.4em;\n",
              "  box-sizing: border-box;\n",
              "  padding-bottom: 0.4em;\n",
              "  background-color: var(--sklearn-color-background);\n",
              "}\n",
              "\n",
              "#sk-container-id-3 div.sk-container {\n",
              "  /* jupyter's `normalize.less` sets `[hidden] { display: none; }`\n",
              "     but bootstrap.min.css set `[hidden] { display: none !important; }`\n",
              "     so we also need the `!important` here to be able to override the\n",
              "     default hidden behavior on the sphinx rendered scikit-learn.org.\n",
              "     See: https://github.com/scikit-learn/scikit-learn/issues/21755 */\n",
              "  display: inline-block !important;\n",
              "  position: relative;\n",
              "}\n",
              "\n",
              "#sk-container-id-3 div.sk-text-repr-fallback {\n",
              "  display: none;\n",
              "}\n",
              "\n",
              "div.sk-parallel-item,\n",
              "div.sk-serial,\n",
              "div.sk-item {\n",
              "  /* draw centered vertical line to link estimators */\n",
              "  background-image: linear-gradient(var(--sklearn-color-text-on-default-background), var(--sklearn-color-text-on-default-background));\n",
              "  background-size: 2px 100%;\n",
              "  background-repeat: no-repeat;\n",
              "  background-position: center center;\n",
              "}\n",
              "\n",
              "/* Parallel-specific style estimator block */\n",
              "\n",
              "#sk-container-id-3 div.sk-parallel-item::after {\n",
              "  content: \"\";\n",
              "  width: 100%;\n",
              "  border-bottom: 2px solid var(--sklearn-color-text-on-default-background);\n",
              "  flex-grow: 1;\n",
              "}\n",
              "\n",
              "#sk-container-id-3 div.sk-parallel {\n",
              "  display: flex;\n",
              "  align-items: stretch;\n",
              "  justify-content: center;\n",
              "  background-color: var(--sklearn-color-background);\n",
              "  position: relative;\n",
              "}\n",
              "\n",
              "#sk-container-id-3 div.sk-parallel-item {\n",
              "  display: flex;\n",
              "  flex-direction: column;\n",
              "}\n",
              "\n",
              "#sk-container-id-3 div.sk-parallel-item:first-child::after {\n",
              "  align-self: flex-end;\n",
              "  width: 50%;\n",
              "}\n",
              "\n",
              "#sk-container-id-3 div.sk-parallel-item:last-child::after {\n",
              "  align-self: flex-start;\n",
              "  width: 50%;\n",
              "}\n",
              "\n",
              "#sk-container-id-3 div.sk-parallel-item:only-child::after {\n",
              "  width: 0;\n",
              "}\n",
              "\n",
              "/* Serial-specific style estimator block */\n",
              "\n",
              "#sk-container-id-3 div.sk-serial {\n",
              "  display: flex;\n",
              "  flex-direction: column;\n",
              "  align-items: center;\n",
              "  background-color: var(--sklearn-color-background);\n",
              "  padding-right: 1em;\n",
              "  padding-left: 1em;\n",
              "}\n",
              "\n",
              "\n",
              "/* Toggleable style: style used for estimator/Pipeline/ColumnTransformer box that is\n",
              "clickable and can be expanded/collapsed.\n",
              "- Pipeline and ColumnTransformer use this feature and define the default style\n",
              "- Estimators will overwrite some part of the style using the `sk-estimator` class\n",
              "*/\n",
              "\n",
              "/* Pipeline and ColumnTransformer style (default) */\n",
              "\n",
              "#sk-container-id-3 div.sk-toggleable {\n",
              "  /* Default theme specific background. It is overwritten whether we have a\n",
              "  specific estimator or a Pipeline/ColumnTransformer */\n",
              "  background-color: var(--sklearn-color-background);\n",
              "}\n",
              "\n",
              "/* Toggleable label */\n",
              "#sk-container-id-3 label.sk-toggleable__label {\n",
              "  cursor: pointer;\n",
              "  display: flex;\n",
              "  width: 100%;\n",
              "  margin-bottom: 0;\n",
              "  padding: 0.5em;\n",
              "  box-sizing: border-box;\n",
              "  text-align: center;\n",
              "  align-items: start;\n",
              "  justify-content: space-between;\n",
              "  gap: 0.5em;\n",
              "}\n",
              "\n",
              "#sk-container-id-3 label.sk-toggleable__label .caption {\n",
              "  font-size: 0.6rem;\n",
              "  font-weight: lighter;\n",
              "  color: var(--sklearn-color-text-muted);\n",
              "}\n",
              "\n",
              "#sk-container-id-3 label.sk-toggleable__label-arrow:before {\n",
              "  /* Arrow on the left of the label */\n",
              "  content: \"▸\";\n",
              "  float: left;\n",
              "  margin-right: 0.25em;\n",
              "  color: var(--sklearn-color-icon);\n",
              "}\n",
              "\n",
              "#sk-container-id-3 label.sk-toggleable__label-arrow:hover:before {\n",
              "  color: var(--sklearn-color-text);\n",
              "}\n",
              "\n",
              "/* Toggleable content - dropdown */\n",
              "\n",
              "#sk-container-id-3 div.sk-toggleable__content {\n",
              "  max-height: 0;\n",
              "  max-width: 0;\n",
              "  overflow: hidden;\n",
              "  text-align: left;\n",
              "  /* unfitted */\n",
              "  background-color: var(--sklearn-color-unfitted-level-0);\n",
              "}\n",
              "\n",
              "#sk-container-id-3 div.sk-toggleable__content.fitted {\n",
              "  /* fitted */\n",
              "  background-color: var(--sklearn-color-fitted-level-0);\n",
              "}\n",
              "\n",
              "#sk-container-id-3 div.sk-toggleable__content pre {\n",
              "  margin: 0.2em;\n",
              "  border-radius: 0.25em;\n",
              "  color: var(--sklearn-color-text);\n",
              "  /* unfitted */\n",
              "  background-color: var(--sklearn-color-unfitted-level-0);\n",
              "}\n",
              "\n",
              "#sk-container-id-3 div.sk-toggleable__content.fitted pre {\n",
              "  /* unfitted */\n",
              "  background-color: var(--sklearn-color-fitted-level-0);\n",
              "}\n",
              "\n",
              "#sk-container-id-3 input.sk-toggleable__control:checked~div.sk-toggleable__content {\n",
              "  /* Expand drop-down */\n",
              "  max-height: 200px;\n",
              "  max-width: 100%;\n",
              "  overflow: auto;\n",
              "}\n",
              "\n",
              "#sk-container-id-3 input.sk-toggleable__control:checked~label.sk-toggleable__label-arrow:before {\n",
              "  content: \"▾\";\n",
              "}\n",
              "\n",
              "/* Pipeline/ColumnTransformer-specific style */\n",
              "\n",
              "#sk-container-id-3 div.sk-label input.sk-toggleable__control:checked~label.sk-toggleable__label {\n",
              "  color: var(--sklearn-color-text);\n",
              "  background-color: var(--sklearn-color-unfitted-level-2);\n",
              "}\n",
              "\n",
              "#sk-container-id-3 div.sk-label.fitted input.sk-toggleable__control:checked~label.sk-toggleable__label {\n",
              "  background-color: var(--sklearn-color-fitted-level-2);\n",
              "}\n",
              "\n",
              "/* Estimator-specific style */\n",
              "\n",
              "/* Colorize estimator box */\n",
              "#sk-container-id-3 div.sk-estimator input.sk-toggleable__control:checked~label.sk-toggleable__label {\n",
              "  /* unfitted */\n",
              "  background-color: var(--sklearn-color-unfitted-level-2);\n",
              "}\n",
              "\n",
              "#sk-container-id-3 div.sk-estimator.fitted input.sk-toggleable__control:checked~label.sk-toggleable__label {\n",
              "  /* fitted */\n",
              "  background-color: var(--sklearn-color-fitted-level-2);\n",
              "}\n",
              "\n",
              "#sk-container-id-3 div.sk-label label.sk-toggleable__label,\n",
              "#sk-container-id-3 div.sk-label label {\n",
              "  /* The background is the default theme color */\n",
              "  color: var(--sklearn-color-text-on-default-background);\n",
              "}\n",
              "\n",
              "/* On hover, darken the color of the background */\n",
              "#sk-container-id-3 div.sk-label:hover label.sk-toggleable__label {\n",
              "  color: var(--sklearn-color-text);\n",
              "  background-color: var(--sklearn-color-unfitted-level-2);\n",
              "}\n",
              "\n",
              "/* Label box, darken color on hover, fitted */\n",
              "#sk-container-id-3 div.sk-label.fitted:hover label.sk-toggleable__label.fitted {\n",
              "  color: var(--sklearn-color-text);\n",
              "  background-color: var(--sklearn-color-fitted-level-2);\n",
              "}\n",
              "\n",
              "/* Estimator label */\n",
              "\n",
              "#sk-container-id-3 div.sk-label label {\n",
              "  font-family: monospace;\n",
              "  font-weight: bold;\n",
              "  display: inline-block;\n",
              "  line-height: 1.2em;\n",
              "}\n",
              "\n",
              "#sk-container-id-3 div.sk-label-container {\n",
              "  text-align: center;\n",
              "}\n",
              "\n",
              "/* Estimator-specific */\n",
              "#sk-container-id-3 div.sk-estimator {\n",
              "  font-family: monospace;\n",
              "  border: 1px dotted var(--sklearn-color-border-box);\n",
              "  border-radius: 0.25em;\n",
              "  box-sizing: border-box;\n",
              "  margin-bottom: 0.5em;\n",
              "  /* unfitted */\n",
              "  background-color: var(--sklearn-color-unfitted-level-0);\n",
              "}\n",
              "\n",
              "#sk-container-id-3 div.sk-estimator.fitted {\n",
              "  /* fitted */\n",
              "  background-color: var(--sklearn-color-fitted-level-0);\n",
              "}\n",
              "\n",
              "/* on hover */\n",
              "#sk-container-id-3 div.sk-estimator:hover {\n",
              "  /* unfitted */\n",
              "  background-color: var(--sklearn-color-unfitted-level-2);\n",
              "}\n",
              "\n",
              "#sk-container-id-3 div.sk-estimator.fitted:hover {\n",
              "  /* fitted */\n",
              "  background-color: var(--sklearn-color-fitted-level-2);\n",
              "}\n",
              "\n",
              "/* Specification for estimator info (e.g. \"i\" and \"?\") */\n",
              "\n",
              "/* Common style for \"i\" and \"?\" */\n",
              "\n",
              ".sk-estimator-doc-link,\n",
              "a:link.sk-estimator-doc-link,\n",
              "a:visited.sk-estimator-doc-link {\n",
              "  float: right;\n",
              "  font-size: smaller;\n",
              "  line-height: 1em;\n",
              "  font-family: monospace;\n",
              "  background-color: var(--sklearn-color-background);\n",
              "  border-radius: 1em;\n",
              "  height: 1em;\n",
              "  width: 1em;\n",
              "  text-decoration: none !important;\n",
              "  margin-left: 0.5em;\n",
              "  text-align: center;\n",
              "  /* unfitted */\n",
              "  border: var(--sklearn-color-unfitted-level-1) 1pt solid;\n",
              "  color: var(--sklearn-color-unfitted-level-1);\n",
              "}\n",
              "\n",
              ".sk-estimator-doc-link.fitted,\n",
              "a:link.sk-estimator-doc-link.fitted,\n",
              "a:visited.sk-estimator-doc-link.fitted {\n",
              "  /* fitted */\n",
              "  border: var(--sklearn-color-fitted-level-1) 1pt solid;\n",
              "  color: var(--sklearn-color-fitted-level-1);\n",
              "}\n",
              "\n",
              "/* On hover */\n",
              "div.sk-estimator:hover .sk-estimator-doc-link:hover,\n",
              ".sk-estimator-doc-link:hover,\n",
              "div.sk-label-container:hover .sk-estimator-doc-link:hover,\n",
              ".sk-estimator-doc-link:hover {\n",
              "  /* unfitted */\n",
              "  background-color: var(--sklearn-color-unfitted-level-3);\n",
              "  color: var(--sklearn-color-background);\n",
              "  text-decoration: none;\n",
              "}\n",
              "\n",
              "div.sk-estimator.fitted:hover .sk-estimator-doc-link.fitted:hover,\n",
              ".sk-estimator-doc-link.fitted:hover,\n",
              "div.sk-label-container:hover .sk-estimator-doc-link.fitted:hover,\n",
              ".sk-estimator-doc-link.fitted:hover {\n",
              "  /* fitted */\n",
              "  background-color: var(--sklearn-color-fitted-level-3);\n",
              "  color: var(--sklearn-color-background);\n",
              "  text-decoration: none;\n",
              "}\n",
              "\n",
              "/* Span, style for the box shown on hovering the info icon */\n",
              ".sk-estimator-doc-link span {\n",
              "  display: none;\n",
              "  z-index: 9999;\n",
              "  position: relative;\n",
              "  font-weight: normal;\n",
              "  right: .2ex;\n",
              "  padding: .5ex;\n",
              "  margin: .5ex;\n",
              "  width: min-content;\n",
              "  min-width: 20ex;\n",
              "  max-width: 50ex;\n",
              "  color: var(--sklearn-color-text);\n",
              "  box-shadow: 2pt 2pt 4pt #999;\n",
              "  /* unfitted */\n",
              "  background: var(--sklearn-color-unfitted-level-0);\n",
              "  border: .5pt solid var(--sklearn-color-unfitted-level-3);\n",
              "}\n",
              "\n",
              ".sk-estimator-doc-link.fitted span {\n",
              "  /* fitted */\n",
              "  background: var(--sklearn-color-fitted-level-0);\n",
              "  border: var(--sklearn-color-fitted-level-3);\n",
              "}\n",
              "\n",
              ".sk-estimator-doc-link:hover span {\n",
              "  display: block;\n",
              "}\n",
              "\n",
              "/* \"?\"-specific style due to the `<a>` HTML tag */\n",
              "\n",
              "#sk-container-id-3 a.estimator_doc_link {\n",
              "  float: right;\n",
              "  font-size: 1rem;\n",
              "  line-height: 1em;\n",
              "  font-family: monospace;\n",
              "  background-color: var(--sklearn-color-background);\n",
              "  border-radius: 1rem;\n",
              "  height: 1rem;\n",
              "  width: 1rem;\n",
              "  text-decoration: none;\n",
              "  /* unfitted */\n",
              "  color: var(--sklearn-color-unfitted-level-1);\n",
              "  border: var(--sklearn-color-unfitted-level-1) 1pt solid;\n",
              "}\n",
              "\n",
              "#sk-container-id-3 a.estimator_doc_link.fitted {\n",
              "  /* fitted */\n",
              "  border: var(--sklearn-color-fitted-level-1) 1pt solid;\n",
              "  color: var(--sklearn-color-fitted-level-1);\n",
              "}\n",
              "\n",
              "/* On hover */\n",
              "#sk-container-id-3 a.estimator_doc_link:hover {\n",
              "  /* unfitted */\n",
              "  background-color: var(--sklearn-color-unfitted-level-3);\n",
              "  color: var(--sklearn-color-background);\n",
              "  text-decoration: none;\n",
              "}\n",
              "\n",
              "#sk-container-id-3 a.estimator_doc_link.fitted:hover {\n",
              "  /* fitted */\n",
              "  background-color: var(--sklearn-color-fitted-level-3);\n",
              "}\n",
              "</style><div id=\"sk-container-id-3\" class=\"sk-top-container\"><div class=\"sk-text-repr-fallback\"><pre>GridSearchCV(cv=5, estimator=KNeighborsRegressor(),\n",
              "             param_grid={&#x27;metric&#x27;: [&#x27;cityblock&#x27;, &#x27;euclidean&#x27;, &#x27;chebyshev&#x27;],\n",
              "                         &#x27;n_neighbors&#x27;: [1, 3, 5, 7],\n",
              "                         &#x27;weights&#x27;: [&#x27;uniform&#x27;, &#x27;distance&#x27;]},\n",
              "             return_train_score=True, scoring=&#x27;neg_mean_squared_error&#x27;)</pre><b>In a Jupyter environment, please rerun this cell to show the HTML representation or trust the notebook. <br />On GitHub, the HTML representation is unable to render, please try loading this page with nbviewer.org.</b></div><div class=\"sk-container\" hidden><div class=\"sk-item sk-dashed-wrapped\"><div class=\"sk-label-container\"><div class=\"sk-label fitted sk-toggleable\"><input class=\"sk-toggleable__control sk-hidden--visually\" id=\"sk-estimator-id-7\" type=\"checkbox\" ><label for=\"sk-estimator-id-7\" class=\"sk-toggleable__label fitted sk-toggleable__label-arrow\"><div><div>GridSearchCV</div></div><div><a class=\"sk-estimator-doc-link fitted\" rel=\"noreferrer\" target=\"_blank\" href=\"https://scikit-learn.org/1.6/modules/generated/sklearn.model_selection.GridSearchCV.html\">?<span>Documentation for GridSearchCV</span></a><span class=\"sk-estimator-doc-link fitted\">i<span>Fitted</span></span></div></label><div class=\"sk-toggleable__content fitted\"><pre>GridSearchCV(cv=5, estimator=KNeighborsRegressor(),\n",
              "             param_grid={&#x27;metric&#x27;: [&#x27;cityblock&#x27;, &#x27;euclidean&#x27;, &#x27;chebyshev&#x27;],\n",
              "                         &#x27;n_neighbors&#x27;: [1, 3, 5, 7],\n",
              "                         &#x27;weights&#x27;: [&#x27;uniform&#x27;, &#x27;distance&#x27;]},\n",
              "             return_train_score=True, scoring=&#x27;neg_mean_squared_error&#x27;)</pre></div> </div></div><div class=\"sk-parallel\"><div class=\"sk-parallel-item\"><div class=\"sk-item\"><div class=\"sk-label-container\"><div class=\"sk-label fitted sk-toggleable\"><input class=\"sk-toggleable__control sk-hidden--visually\" id=\"sk-estimator-id-8\" type=\"checkbox\" ><label for=\"sk-estimator-id-8\" class=\"sk-toggleable__label fitted sk-toggleable__label-arrow\"><div><div>best_estimator_: KNeighborsRegressor</div></div></label><div class=\"sk-toggleable__content fitted\"><pre>KNeighborsRegressor(metric=&#x27;euclidean&#x27;, n_neighbors=3, weights=&#x27;distance&#x27;)</pre></div> </div></div><div class=\"sk-serial\"><div class=\"sk-item\"><div class=\"sk-estimator fitted sk-toggleable\"><input class=\"sk-toggleable__control sk-hidden--visually\" id=\"sk-estimator-id-9\" type=\"checkbox\" ><label for=\"sk-estimator-id-9\" class=\"sk-toggleable__label fitted sk-toggleable__label-arrow\"><div><div>KNeighborsRegressor</div></div><div><a class=\"sk-estimator-doc-link fitted\" rel=\"noreferrer\" target=\"_blank\" href=\"https://scikit-learn.org/1.6/modules/generated/sklearn.neighbors.KNeighborsRegressor.html\">?<span>Documentation for KNeighborsRegressor</span></a></div></label><div class=\"sk-toggleable__content fitted\"><pre>KNeighborsRegressor(metric=&#x27;euclidean&#x27;, n_neighbors=3, weights=&#x27;distance&#x27;)</pre></div> </div></div></div></div></div></div></div></div></div>"
            ],
            "text/plain": [
              "GridSearchCV(cv=5, estimator=KNeighborsRegressor(),\n",
              "             param_grid={'metric': ['cityblock', 'euclidean', 'chebyshev'],\n",
              "                         'n_neighbors': [1, 3, 5, 7],\n",
              "                         'weights': ['uniform', 'distance']},\n",
              "             return_train_score=True, scoring='neg_mean_squared_error')"
            ]
          },
          "execution_count": 27,
          "metadata": {},
          "output_type": "execute_result"
        }
      ],
      "source": [
        "knn_regressor = KNeighborsRegressor()\n",
        "knn_grid = GridSearchCV(knn_regressor, param_grid=knn_params, cv=5, scoring='neg_mean_squared_error', return_train_score=True)\n",
        "knn_grid.fit(X_reg_train, y_reg_train)"
      ]
    },
    {
      "cell_type": "markdown",
      "metadata": {
        "id": "86peyNjKxXz9"
      },
      "source": [
        "Используя GridSearchCV, определим лучший регрессор"
      ]
    },
    {
      "cell_type": "code",
      "execution_count": null,
      "metadata": {
        "id": "OhcbxJXDxXz-",
        "outputId": "3f9cfddc-b6e5-4fb1-e0df-85b762e693c8"
      },
      "outputs": [
        {
          "name": "stdout",
          "output_type": "stream",
          "text": [
            "Лучший регрессор: KNeighborsRegressor(metric='euclidean', n_neighbors=3, weights='distance')\n",
            "Среднеквадратичная ошибка регрессии: 0.07\n"
          ]
        }
      ],
      "source": [
        "best_knn = knn_grid.best_estimator_\n",
        "y_reg_pred = best_knn.predict(X_reg_test)\n",
        "regression_mse = mean_squared_error(y_reg_test, y_reg_pred)\n",
        "\n",
        "print(\"Лучший регрессор:\", best_knn)\n",
        "print(f\"Среднеквадратичная ошибка регрессии: {regression_mse:.2f}\")"
      ]
    },
    {
      "cell_type": "markdown",
      "metadata": {
        "id": "iXIkNYCLxXz-"
      },
      "source": [
        "Выведем результаты регрессии"
      ]
    },
    {
      "cell_type": "code",
      "execution_count": null,
      "metadata": {
        "id": "IHAmUuywxXz-",
        "outputId": "66a665f9-27af-4020-cd37-d06d427d987f"
      },
      "outputs": [
        {
          "name": "stdout",
          "output_type": "stream",
          "text": [
            "Результаты всех моделей:\n",
            "1. Test MSE: 0.0657, Test R2: 0.9344, CV MSE: 0.0943, Params: {'metric': 'chebyshev', 'n_neighbors': 3, 'weights': 'distance'}\n",
            "2. Test MSE: 0.0685, Test R2: 0.9316, CV MSE: 0.0849, Params: {'metric': 'euclidean', 'n_neighbors': 3, 'weights': 'distance'}\n",
            "3. Test MSE: 0.0713, Test R2: 0.9288, CV MSE: 0.0934, Params: {'metric': 'euclidean', 'n_neighbors': 3, 'weights': 'uniform'}\n",
            "4. Test MSE: 0.0720, Test R2: 0.9281, CV MSE: 0.1044, Params: {'metric': 'chebyshev', 'n_neighbors': 3, 'weights': 'uniform'}\n",
            "5. Test MSE: 0.0756, Test R2: 0.9245, CV MSE: 0.0891, Params: {'metric': 'euclidean', 'n_neighbors': 5, 'weights': 'distance'}\n",
            "6. Test MSE: 0.0794, Test R2: 0.9208, CV MSE: 0.0929, Params: {'metric': 'cityblock', 'n_neighbors': 3, 'weights': 'distance'}\n",
            "7. Test MSE: 0.0815, Test R2: 0.9186, CV MSE: 0.0979, Params: {'metric': 'euclidean', 'n_neighbors': 7, 'weights': 'distance'}\n",
            "8. Test MSE: 0.0858, Test R2: 0.9143, CV MSE: 0.1199, Params: {'metric': 'euclidean', 'n_neighbors': 1, 'weights': 'uniform'}\n",
            "9. Test MSE: 0.0858, Test R2: 0.9143, CV MSE: 0.1199, Params: {'metric': 'euclidean', 'n_neighbors': 1, 'weights': 'distance'}\n",
            "10. Test MSE: 0.0867, Test R2: 0.9135, CV MSE: 0.1026, Params: {'metric': 'cityblock', 'n_neighbors': 7, 'weights': 'distance'}\n",
            "11. Test MSE: 0.0871, Test R2: 0.9130, CV MSE: 0.1005, Params: {'metric': 'euclidean', 'n_neighbors': 5, 'weights': 'uniform'}\n",
            "12. Test MSE: 0.0884, Test R2: 0.9117, CV MSE: 0.1035, Params: {'metric': 'cityblock', 'n_neighbors': 3, 'weights': 'uniform'}\n",
            "13. Test MSE: 0.0886, Test R2: 0.9115, CV MSE: 0.1018, Params: {'metric': 'chebyshev', 'n_neighbors': 5, 'weights': 'distance'}\n",
            "14. Test MSE: 0.0909, Test R2: 0.9092, CV MSE: 0.1066, Params: {'metric': 'chebyshev', 'n_neighbors': 7, 'weights': 'distance'}\n",
            "15. Test MSE: 0.0912, Test R2: 0.9089, CV MSE: 0.0968, Params: {'metric': 'cityblock', 'n_neighbors': 5, 'weights': 'distance'}\n",
            "16. Test MSE: 0.0929, Test R2: 0.9072, CV MSE: 0.1135, Params: {'metric': 'euclidean', 'n_neighbors': 7, 'weights': 'uniform'}\n",
            "17. Test MSE: 0.0942, Test R2: 0.9059, CV MSE: 0.1338, Params: {'metric': 'cityblock', 'n_neighbors': 1, 'weights': 'uniform'}\n",
            "18. Test MSE: 0.0942, Test R2: 0.9059, CV MSE: 0.1338, Params: {'metric': 'cityblock', 'n_neighbors': 1, 'weights': 'distance'}\n",
            "19. Test MSE: 0.0973, Test R2: 0.9028, CV MSE: 0.1145, Params: {'metric': 'chebyshev', 'n_neighbors': 1, 'weights': 'uniform'}\n",
            "20. Test MSE: 0.0973, Test R2: 0.9028, CV MSE: 0.1145, Params: {'metric': 'chebyshev', 'n_neighbors': 1, 'weights': 'distance'}\n",
            "21. Test MSE: 0.0996, Test R2: 0.9005, CV MSE: 0.1219, Params: {'metric': 'cityblock', 'n_neighbors': 7, 'weights': 'uniform'}\n",
            "22. Test MSE: 0.1046, Test R2: 0.8955, CV MSE: 0.1168, Params: {'metric': 'chebyshev', 'n_neighbors': 5, 'weights': 'uniform'}\n",
            "23. Test MSE: 0.1073, Test R2: 0.8929, CV MSE: 0.1252, Params: {'metric': 'chebyshev', 'n_neighbors': 7, 'weights': 'uniform'}\n",
            "24. Test MSE: 0.1075, Test R2: 0.8927, CV MSE: 0.1125, Params: {'metric': 'cityblock', 'n_neighbors': 5, 'weights': 'uniform'}\n"
          ]
        }
      ],
      "source": [
        "results = []\n",
        "\n",
        "for params, mean_train_score, mean_cv_score in zip(\n",
        "        knn_grid.cv_results_['params'],\n",
        "        knn_grid.cv_results_['mean_train_score'],\n",
        "        knn_grid.cv_results_['mean_test_score']\n",
        "):\n",
        "    model = KNeighborsRegressor(**params)\n",
        "    model.fit(X_reg_train, y_reg_train)\n",
        "\n",
        "    y_pred = model.predict(X_reg_test)\n",
        "    test_mse = mean_squared_error(y_reg_test, y_pred)\n",
        "    test_r2 = r2_score(y_reg_test, y_pred)\n",
        "\n",
        "    results.append({\n",
        "        'params': params,\n",
        "        'train_mse': -mean_train_score,\n",
        "        'cv_mse': -mean_cv_score,\n",
        "        'test_mse': test_mse,\n",
        "        'test_r2': test_r2\n",
        "    })\n",
        "\n",
        "sorted_results = sorted(results, key=lambda x: x['test_r2'], reverse=True)\n",
        "\n",
        "print(\"Результаты всех моделей:\")\n",
        "for i, res in enumerate(sorted_results, 1):\n",
        "    print(f\"{i}. Test MSE: {res['test_mse']:.4f}, Test R2: {res['test_r2']:.4f}, CV MSE: {res['cv_mse']:.4f}, Params: {res['params']}\")"
      ]
    },
    {
      "cell_type": "markdown",
      "metadata": {
        "id": "x5KmFYEExXz_"
      },
      "source": [
        "Выводы по пункту \"Регрессия\":"
      ]
    },
    {
      "cell_type": "markdown",
      "metadata": {
        "id": "_OkQcMy3xXz_"
      },
      "source": [
        "На тестовых данных лучший результат:  \n",
        "`1. Test MSE: 0.0657, Test R2: 0.9344, CV MSE: 0.0943, Params: {'metric': 'chebyshev', 'n_neighbors': 3, 'weights': 'distance'}`\n",
        "\n",
        "По GridSearchCV лучший результат на тренировочных данных:  \n",
        "`2. Test MSE: 0.0685, Test R2: 0.9316, CV MSE: 0.0849, Params: {'metric': 'euclidean', 'n_neighbors': 3, 'weights': 'distance'}`\n"
      ]
    },
    {
      "cell_type": "markdown",
      "metadata": {
        "id": "FMfeShS6xXz_"
      },
      "source": [
        "#   Классификация - LogisticRegression\n",
        "\n",
        "Основные указания пункта:  \n",
        ">1.Построить ROC-кривую по результатам данного классификатора.  \n",
        ">2.Выбрать различное значение порога вероятности отделения классов (не менее 5 различных значений)\n",
        "и вычислить значения метрик качества классификации при различных пороговых значениях.  \n",
        "В качестве метрик можно рассматривать: accuracy, precision, recall, F1-score."
      ]
    },
    {
      "cell_type": "markdown",
      "metadata": {
        "id": "uKA5_MNqxX0A"
      },
      "source": [
        "Разобьем данные на обучающую и тестовую выборки (соотношение - 80/20)"
      ]
    },
    {
      "cell_type": "code",
      "execution_count": null,
      "metadata": {
        "id": "9n2xkjBkxX0A"
      },
      "outputs": [],
      "source": [
        "X_class = heart.drop(columns=['target'])\n",
        "y_class = heart['target']\n",
        "\n",
        "X_class_train, X_class_test, y_class_train, y_class_test = train_test_split(X_class, y_class, test_size=0.2, random_state=42)"
      ]
    },
    {
      "cell_type": "markdown",
      "metadata": {
        "id": "aQAonq5lxX0A"
      },
      "source": [
        "Обучим модель"
      ]
    },
    {
      "cell_type": "code",
      "execution_count": null,
      "metadata": {
        "id": "_1QaxkHTxX0A"
      },
      "outputs": [],
      "source": [
        "log_reg = LogisticRegression(max_iter=10000, random_state=42)\n",
        "log_reg.fit(X_class_train, y_class_train)\n",
        "y_class_proba = log_reg.predict_proba(X_class_test)[:, 1]\n",
        "y_class_pred = log_reg.predict(X_class_test)"
      ]
    },
    {
      "cell_type": "markdown",
      "metadata": {
        "id": "9SPKSm_VxX0A"
      },
      "source": [
        "Выведем отчет по метрикам классификации"
      ]
    },
    {
      "cell_type": "code",
      "execution_count": null,
      "metadata": {
        "id": "-R4W-SagxX0B",
        "outputId": "85fdfea2-7fc4-436f-a7c5-cc68d5dcfce4"
      },
      "outputs": [
        {
          "name": "stdout",
          "output_type": "stream",
          "text": [
            "              precision    recall  f1-score   support\n",
            "\n",
            "           0       0.83      0.89      0.86        28\n",
            "           1       0.90      0.84      0.87        32\n",
            "\n",
            "    accuracy                           0.87        60\n",
            "   macro avg       0.87      0.87      0.87        60\n",
            "weighted avg       0.87      0.87      0.87        60\n",
            "\n"
          ]
        }
      ],
      "source": [
        "print(classification_report(y_class_test, y_class_pred))"
      ]
    },
    {
      "cell_type": "markdown",
      "metadata": {
        "id": "zBlX6ovIxX0B"
      },
      "source": [
        "Построим ROC-кривую"
      ]
    },
    {
      "cell_type": "code",
      "execution_count": null,
      "metadata": {
        "id": "DabZO9a6xX0B",
        "outputId": "8906ca5c-9bd6-49be-dc80-62d6f6b6c2c9"
      },
      "outputs": [
        {
          "data": {
            "image/png": "[encoded data removed]",
            "text/plain": [
              "<Figure size 640x480 with 1 Axes>"
            ]
          },
          "metadata": {},
          "output_type": "display_data"
        }
      ],
      "source": [
        "fpr, tpr, _ = roc_curve(y_class_test, y_class_proba)\n",
        "roc_auc = auc(fpr, tpr)\n",
        "plt.figure()\n",
        "plt.plot(fpr, tpr,  lw=2, label=f'ROC-кривая (AUC = {roc_auc:.2f})')\n",
        "plt.plot([0, 1], [0, 1],  lw=2, linestyle='--')\n",
        "plt.xlabel('Ложноположительные значения (FPR)')\n",
        "plt.ylabel('Истинноположительные значения (TPR)')\n",
        "plt.title('ROC-кривая для логистической регрессии')\n",
        "plt.grid()\n",
        "plt.legend()\n",
        "plt.show()"
      ]
    },
    {
      "cell_type": "markdown",
      "metadata": {
        "id": "tsQgWQLPxX0C"
      },
      "source": [
        "Теперь получим метрики при различных пороговых значениях"
      ]
    },
    {
      "cell_type": "code",
      "execution_count": null,
      "metadata": {
        "id": "Slyxb2GwxX0C",
        "outputId": "c451babc-face-4a5a-de48-8dd9cc8653c4"
      },
      "outputs": [
        {
          "name": "stdout",
          "output_type": "stream",
          "text": [
            "Порог: 0.1, Accuracy: 0.83, Precision: 0.76, Recall: 1.00, F1-score: 0.86\n",
            "\n",
            "Порог: 0.3, Accuracy: 0.90, Precision: 0.88, Recall: 0.94, F1-score: 0.91\n",
            "\n",
            "Порог: 0.5, Accuracy: 0.87, Precision: 0.90, Recall: 0.84, F1-score: 0.87\n",
            "\n",
            "Порог: 0.7, Accuracy: 0.85, Precision: 0.96, Recall: 0.75, F1-score: 0.84\n",
            "\n",
            "Порог: 0.9, Accuracy: 0.67, Precision: 0.93, Recall: 0.41, F1-score: 0.57\n",
            "\n"
          ]
        }
      ],
      "source": [
        "thresholds = [0.1, 0.3, 0.5, 0.7, 0.9]\n",
        "\n",
        "for threshold in thresholds:\n",
        "    y_class_pred_threshold = (y_class_proba >= threshold).astype(int)\n",
        "    accuracy = accuracy_score(y_class_test, y_class_pred_threshold)\n",
        "    precision = precision_score(y_class_test, y_class_pred_threshold)\n",
        "    recall = recall_score(y_class_test, y_class_pred_threshold)\n",
        "    f1 = f1_score(y_class_test, y_class_pred_threshold)\n",
        "    print(f\"Порог: {threshold:.1f}, Accuracy: {accuracy:.2f}, Precision: {precision:.2f}, Recall: {recall:.2f}, F1-score: {f1:.2f}\\n\")"
      ]
    },
    {
      "cell_type": "markdown",
      "metadata": {
        "id": "6ozOpK6bxX0D"
      },
      "source": [
        "Выводы по пункту \"Классификация\":"
      ]
    },
    {
      "cell_type": "markdown",
      "metadata": {
        "id": "e7SOx2cBxX0E"
      },
      "source": [
        "Как можно увидеть, Roc кривая находится выше случайного предсказания. Значит, модель обучена правильно.  \n",
        "На основе полученных метрик наиболее оптимальным значением порога стало `0.3`, поскольку оно имеет наибольщие значения `F1-score` и `Accuracy`, а значит, и более точные предсказания."
      ]
    }
  ],
  "metadata": {
    "kernelspec": {
      "display_name": "Python 3",
      "language": "python",
      "name": "python3"
    },
    "language_info": {
      "codemirror_mode": {
        "name": "ipython",
        "version": 3
      },
      "file_extension": ".py",
      "mimetype": "text/x-python",
      "name": "python",
      "nbconvert_exporter": "python",
      "pygments_lexer": "ipython3",
      "version": "3.13.0"
    },
    "colab": {
      "provenance": []
    }
  },
  "nbformat": 4,
  "nbformat_minor": 0
}