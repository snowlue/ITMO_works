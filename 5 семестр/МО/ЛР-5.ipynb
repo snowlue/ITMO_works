{
  "cells": [
    {
      "cell_type": "markdown",
      "metadata": {
        "id": "7YUvcm5Vte58"
      },
      "source": [
        "# Лабораторная работа №5\n",
        "> Выполнили:  \n",
        "> – 339080, Дьячихин Данила Никитич  \n",
        "> – 368606, Овчинников Павел Алексеевич\n",
        "\n",
        "**Цель работы:** построить модели классификации на основе ансамблевых алгоритмов: бэггинг и градиентный бустинг, содержащие в качестве базовых алгоритмов решающие деревья.\n",
        "\n",
        "**Инструменты:** бэггинг решающих деревьев (случайный лес, `RandomForest`), градиентный бустинг над решающими деревьями (`GradientBoostingRegressor`).\n",
        "\n",
        "Будем использовать датасет, полученный в результате выполнения лабораторной работы №1 — `heart_preprocessed.csv`. Использование `Advertising_preprocessed.csv` опустим, т.к. этот датасет не является классическим для задач классификации, в отличие от `heart_preprocessed.csv`."
      ]
    },
    {
      "cell_type": "markdown",
      "metadata": {
        "id": "QunW8Oi2te6A"
      },
      "source": [
        "Импортируем необходимые библиотеки и загрузим датасеты"
      ]
    },
    {
      "cell_type": "code",
      "execution_count": 2,
      "metadata": {
        "id": "UqK0SERXte6B",
        "outputId": "c3358387-5db7-41df-c1f5-291049c75c9b",
        "colab": {
          "base_uri": "https://localhost:8080/"
        }
      },
      "outputs": [
        {
          "output_type": "stream",
          "name": "stdout",
          "text": [
            "<class 'pandas.core.frame.DataFrame'>\n",
            "RangeIndex: 296 entries, 0 to 295\n",
            "Data columns (total 14 columns):\n",
            " #   Column    Non-Null Count  Dtype  \n",
            "---  ------    --------------  -----  \n",
            " 0   age       296 non-null    float64\n",
            " 1   sex       296 non-null    int64  \n",
            " 2   cp        296 non-null    int64  \n",
            " 3   trestbps  296 non-null    float64\n",
            " 4   chol      296 non-null    float64\n",
            " 5   fbs       296 non-null    int64  \n",
            " 6   restecg   296 non-null    int64  \n",
            " 7   thalach   296 non-null    float64\n",
            " 8   exang     296 non-null    int64  \n",
            " 9   oldpeak   296 non-null    float64\n",
            " 10  slope     296 non-null    int64  \n",
            " 11  ca        296 non-null    int64  \n",
            " 12  thal      296 non-null    int64  \n",
            " 13  target    296 non-null    int64  \n",
            "dtypes: float64(5), int64(9)\n",
            "memory usage: 32.5 KB\n",
            "None\n"
          ]
        }
      ],
      "source": [
        "import matplotlib.pyplot as plt\n",
        "import pandas as pd\n",
        "from seaborn import heatmap\n",
        "from sklearn.ensemble import GradientBoostingClassifier, RandomForestClassifier\n",
        "from sklearn.metrics import classification_report, confusion_matrix, f1_score\n",
        "from sklearn.model_selection import GridSearchCV, train_test_split\n",
        "\n",
        "heart = pd.read_csv('heart_preprocessed.csv')\n",
        "print(heart.info())"
      ]
    },
    {
      "cell_type": "markdown",
      "metadata": {
        "id": "mH_8q7mZte6E"
      },
      "source": [
        "Теперь разделим датасеты на признаки и целевую переменную, и обучающую и тестовую выборки в соотношении 80/20."
      ]
    },
    {
      "cell_type": "code",
      "execution_count": 3,
      "metadata": {
        "id": "hrqzXyz8te6E"
      },
      "outputs": [],
      "source": [
        "X = heart.drop('target', axis=1)\n",
        "Y = heart['target']\n",
        "X_train, X_test, Y_train, Y_test = train_test_split(X, Y, test_size=0.2, random_state=42)"
      ]
    },
    {
      "cell_type": "markdown",
      "metadata": {
        "id": "9SHSWBPPte6F"
      },
      "source": [
        "# Бэггинг решающих деревьев (случайный лес, `RandomForest`)"
      ]
    },
    {
      "cell_type": "markdown",
      "metadata": {
        "id": "vrGENGhote6G"
      },
      "source": [
        "Зададим параметры для перебора в `GridSearchCV` и обучим модель случайного леса на лучших параметрах."
      ]
    },
    {
      "cell_type": "code",
      "execution_count": 4,
      "metadata": {
        "id": "V0VZYUqxte6H"
      },
      "outputs": [],
      "source": [
        "classifier = RandomForestClassifier(random_state=42)\n",
        "params = {\n",
        "    'n_estimators': [100, 200, 300, 400],\n",
        "    'max_depth': [None, 5, 10, 20],\n",
        "    'min_samples_split': [2, 5, 10, 20],\n",
        "    'min_samples_leaf': [1, 2, 4, 8],\n",
        "}\n",
        "grid_search = GridSearchCV(estimator=classifier, param_grid=params, scoring='accuracy')\n",
        "\n",
        "grid_search.fit(X_train, Y_train)\n",
        "y_predict_rfc = grid_search.best_estimator_.predict(X_test)"
      ]
    },
    {
      "cell_type": "markdown",
      "metadata": {
        "id": "Xwv_Mj-Rte6H"
      },
      "source": [
        "Теперь выведем отчёт о классификации на тестовой выборке, чтобы оценить её качество."
      ]
    },
    {
      "cell_type": "code",
      "execution_count": 5,
      "metadata": {
        "id": "WYVUID6Gte6I",
        "outputId": "471175a9-0d20-48d9-92cb-0a62ddaaf256",
        "colab": {
          "base_uri": "https://localhost:8080/"
        }
      },
      "outputs": [
        {
          "output_type": "stream",
          "name": "stdout",
          "text": [
            "Отчет о классификации:\n",
            "              precision    recall  f1-score   support\n",
            "\n",
            "           0       0.83      0.86      0.84        28\n",
            "           1       0.87      0.84      0.86        32\n",
            "\n",
            "    accuracy                           0.85        60\n",
            "   macro avg       0.85      0.85      0.85        60\n",
            "weighted avg       0.85      0.85      0.85        60\n",
            "\n",
            "F1 (f1_score):  0.8571428571428571\n"
          ]
        }
      ],
      "source": [
        "print('Отчет о классификации:', classification_report(y_true=Y_test, y_pred=y_predict_rfc), sep='\\n')\n",
        "print('F1 (f1_score): ', f1_score(y_true=Y_test, y_pred=y_predict_rfc))"
      ]
    },
    {
      "cell_type": "markdown",
      "metadata": {
        "id": "RqMxYjHVte6I"
      },
      "source": [
        "# Градиентный бустинг над решающими деревьями (`GradientBoostingRegressor`)"
      ]
    },
    {
      "cell_type": "markdown",
      "metadata": {
        "id": "ZGis1rD4te6I"
      },
      "source": [
        "Точно так же зададим параметры для перебора в `GridSearchCV` и обучим модель градиентного бустинга на лучших параметрах, которые выберет `GridSearchCV`."
      ]
    },
    {
      "cell_type": "code",
      "execution_count": 6,
      "metadata": {
        "id": "pD0e59ujte6J"
      },
      "outputs": [],
      "source": [
        "classifier = GradientBoostingClassifier(random_state=42)\n",
        "params = {\n",
        "    'n_estimators': [50, 100, 200, 400],\n",
        "    'learning_rate': [0.01, 0.1, 0.2, 0.5],\n",
        "    'max_depth': [3, 4, 5, 6],\n",
        "}\n",
        "\n",
        "grid_search = GridSearchCV(estimator=classifier, param_grid=params, scoring='accuracy')\n",
        "\n",
        "grid_search.fit(X_train, Y_train)\n",
        "y_predict_gbr = grid_search.best_estimator_.predict(X_test)"
      ]
    },
    {
      "cell_type": "markdown",
      "metadata": {
        "id": "otKTkrUFte6J"
      },
      "source": [
        "Выведем для модели отчёт о классификации на тестовой выборке, чтобы оценить её качество."
      ]
    },
    {
      "cell_type": "code",
      "execution_count": 7,
      "metadata": {
        "id": "LP1TeY7Bte6K",
        "outputId": "f88fb7a0-d95e-4a0c-b1be-7b6cb747e9a9",
        "colab": {
          "base_uri": "https://localhost:8080/"
        }
      },
      "outputs": [
        {
          "output_type": "stream",
          "name": "stdout",
          "text": [
            "Отчет о классификации:\n",
            "              precision    recall  f1-score   support\n",
            "\n",
            "           0       0.85      0.82      0.84        28\n",
            "           1       0.85      0.88      0.86        32\n",
            "\n",
            "    accuracy                           0.85        60\n",
            "   macro avg       0.85      0.85      0.85        60\n",
            "weighted avg       0.85      0.85      0.85        60\n",
            "\n",
            "F1 (f1_score):  0.8615384615384616\n"
          ]
        }
      ],
      "source": [
        "print('Отчет о классификации:', classification_report(y_true=Y_test, y_pred=y_predict_gbr), sep='\\n')\n",
        "print('F1 (f1_score): ', f1_score(y_true=Y_test, y_pred=y_predict_gbr))"
      ]
    },
    {
      "cell_type": "markdown",
      "metadata": {
        "id": "J9UrieFste6L"
      },
      "source": [
        "# Сравнительная оценка качества моделей"
      ]
    },
    {
      "cell_type": "markdown",
      "metadata": {
        "id": "x4k4Epovte6L"
      },
      "source": [
        "Определим критерии сравнения моделей:\n",
        "- `f1_score` — среднее гармоническое между точностью и полнотой\n",
        "- `heatmap` — матрица ошибок\n",
        "\n",
        "Сравним модели по этим критериям и сделаем вывод о качестве работы моделей."
      ]
    },
    {
      "cell_type": "code",
      "execution_count": 8,
      "metadata": {
        "id": "5T5MzHfOte6L",
        "outputId": "61cf8f8e-e8c5-4317-c6d1-aadcdff436db",
        "colab": {
          "base_uri": "https://localhost:8080/",
          "height": 442
        }
      },
      "outputs": [
        {
          "output_type": "stream",
          "name": "stdout",
          "text": [
            "f1_score RandomForestClassifier:  0.8571428571428571\n",
            "f1_score GradientBoostingClassifier:  0.8615384615384616\n"
          ]
        },
        {
          "output_type": "display_data",
          "data": {
            "text/plain": [
              "<Figure size 900x400 with 4 Axes>"
            ],
            "image/png": "[encoded data removed]"
          },
          "metadata": {}
        }
      ],
      "source": [
        "print('f1_score RandomForestClassifier: ', f1_score(y_true=Y_test, y_pred=y_predict_rfc))\n",
        "print('f1_score GradientBoostingClassifier: ', f1_score(y_true=Y_test, y_pred=y_predict_gbr))\n",
        "\n",
        "plt.figure(figsize=(9, 4))\n",
        "plt.subplot(1, 2, 1)\n",
        "plt.title('RandomForestClassifier')\n",
        "heatmap(confusion_matrix(Y_test, y_predict_rfc), annot=True, fmt='d', cmap='Blues')\n",
        "plt.subplot(1, 2, 2)\n",
        "plt.title('GradientBoostingClassifier')\n",
        "heatmap(confusion_matrix(Y_test, y_predict_gbr), annot=True, fmt='d', cmap='Blues')\n",
        "plt.tight_layout()"
      ]
    },
    {
      "cell_type": "markdown",
      "metadata": {
        "id": "gbsbhmknte6M"
      },
      "source": [
        "# Вывод\n",
        "Как мы видим, `f1_score` у обеих моделей примерно одинаковый. Матрица ошибок показывает, что `RandomForest` ошибся на классе 1 на один раз больше, а `GradientBoostingRegressor` — точно так же на классе 0. В целом, обе модели показывают себя хорошо, но `GradientBoostingRegressor` работает гораздо быстрее, чем `RandomForest` (118 против 553 секунд), поэтому предпочтительнее использовать именно его, т.к. цена ошибки не такая большая относительно времени работы."
      ]
    }
  ],
  "metadata": {
    "kernelspec": {
      "display_name": "education",
      "language": "python",
      "name": "python3"
    },
    "language_info": {
      "codemirror_mode": {
        "name": "ipython",
        "version": 3
      },
      "file_extension": ".py",
      "mimetype": "text/x-python",
      "name": "python",
      "nbconvert_exporter": "python",
      "pygments_lexer": "ipython3",
      "version": "3.12.7"
    },
    "colab": {
      "provenance": []
    }
  },
  "nbformat": 4,
  "nbformat_minor": 0
}